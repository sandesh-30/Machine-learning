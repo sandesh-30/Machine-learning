{
  "nbformat": 4,
  "nbformat_minor": 0,
  "metadata": {
    "colab": {
      "name": "Unsupervised_learning.ipynb",
      "provenance": [],
      "collapsed_sections": []
    },
    "kernelspec": {
      "name": "python3",
      "display_name": "Python 3"
    },
    "language_info": {
      "name": "python"
    }
  },
  "cells": [
    {
      "cell_type": "code",
      "metadata": {
        "id": "v596MLeRxSZF"
      },
      "source": [
        "#importing packages required\n",
        "import numpy as np\n",
        "import pandas as pd\n",
        "import matplotlib.pyplot as plt \n",
        "import seaborn as sns"
      ],
      "execution_count": null,
      "outputs": []
    },
    {
      "cell_type": "markdown",
      "metadata": {
        "id": "0JAZLnF90QxG"
      },
      "source": [
        "#$\\Large \\textbf{Solution to problem 1}$"
      ]
    },
    {
      "cell_type": "markdown",
      "metadata": {
        "id": "FB2jpGxXxscn"
      },
      "source": [
        "#part a : Visualizing and pre-processing data"
      ]
    },
    {
      "cell_type": "code",
      "metadata": {
        "colab": {
          "resources": {
            "http://localhost:8080/nbextensions/google.colab/files.js": {
              "data": "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",
              "ok": true,
              "headers": [
                [
                  "content-type",
                  "application/javascript"
                ]
              ],
              "status": 200,
              "status_text": ""
            }
          },
          "base_uri": "https://localhost:8080/",
          "height": 90
        },
        "id": "wisjgB0hxl4m",
        "outputId": "e95b7033-b427-4286-c47e-4b8381e5fa37"
      },
      "source": [
        "from google.colab import files\n",
        "file_uploaded = files.upload()\n",
        "for i in file_uploaded.keys() :\n",
        "  print(\"You have uploaded file {file} and file size is {len} bytes\".format(file = i , len = len(i)))\n"
      ],
      "execution_count": null,
      "outputs": [
        {
          "output_type": "display_data",
          "data": {
            "text/html": [
              "\n",
              "     <input type=\"file\" id=\"files-9ee65797-7f2a-4906-9e9b-c850f73a5a76\" name=\"files[]\" multiple disabled\n",
              "        style=\"border:none\" />\n",
              "     <output id=\"result-9ee65797-7f2a-4906-9e9b-c850f73a5a76\">\n",
              "      Upload widget is only available when the cell has been executed in the\n",
              "      current browser session. Please rerun this cell to enable.\n",
              "      </output>\n",
              "      <script src=\"/nbextensions/google.colab/files.js\"></script> "
            ],
            "text/plain": [
              "<IPython.core.display.HTML object>"
            ]
          },
          "metadata": {
            "tags": []
          }
        },
        {
          "output_type": "stream",
          "text": [
            "Saving DataClustering.csv to DataClustering.csv\n",
            "You have uploaded file DataClustering.csv and file size is 18 bytes\n"
          ],
          "name": "stdout"
        }
      ]
    },
    {
      "cell_type": "code",
      "metadata": {
        "colab": {
          "base_uri": "https://localhost:8080/",
          "height": 402
        },
        "id": "WkO9bl5jx_wK",
        "outputId": "756a5504-f78b-4717-fbb0-0ebecc7ec369"
      },
      "source": [
        "train_df = pd.read_csv(\"/content/DataClustering.csv\")\n",
        "display(train_df)\n"
      ],
      "execution_count": null,
      "outputs": [
        {
          "output_type": "display_data",
          "data": {
            "text/html": [
              "<div>\n",
              "<style scoped>\n",
              "    .dataframe tbody tr th:only-of-type {\n",
              "        vertical-align: middle;\n",
              "    }\n",
              "\n",
              "    .dataframe tbody tr th {\n",
              "        vertical-align: top;\n",
              "    }\n",
              "\n",
              "    .dataframe thead th {\n",
              "        text-align: right;\n",
              "    }\n",
              "</style>\n",
              "<table border=\"1\" class=\"dataframe\">\n",
              "  <thead>\n",
              "    <tr style=\"text-align: right;\">\n",
              "      <th></th>\n",
              "      <th>x1</th>\n",
              "      <th>x2</th>\n",
              "      <th>x3</th>\n",
              "      <th>x4</th>\n",
              "    </tr>\n",
              "  </thead>\n",
              "  <tbody>\n",
              "    <tr>\n",
              "      <th>0</th>\n",
              "      <td>0.832354</td>\n",
              "      <td>1.389428</td>\n",
              "      <td>0.962226</td>\n",
              "      <td>0.993671</td>\n",
              "    </tr>\n",
              "    <tr>\n",
              "      <th>1</th>\n",
              "      <td>1.256087</td>\n",
              "      <td>1.500487</td>\n",
              "      <td>0.904118</td>\n",
              "      <td>0.738035</td>\n",
              "    </tr>\n",
              "    <tr>\n",
              "      <th>2</th>\n",
              "      <td>0.976953</td>\n",
              "      <td>1.058524</td>\n",
              "      <td>1.217530</td>\n",
              "      <td>1.357238</td>\n",
              "    </tr>\n",
              "    <tr>\n",
              "      <th>3</th>\n",
              "      <td>1.014365</td>\n",
              "      <td>1.122684</td>\n",
              "      <td>1.195847</td>\n",
              "      <td>0.984144</td>\n",
              "    </tr>\n",
              "    <tr>\n",
              "      <th>4</th>\n",
              "      <td>1.041386</td>\n",
              "      <td>1.219014</td>\n",
              "      <td>0.864819</td>\n",
              "      <td>1.720825</td>\n",
              "    </tr>\n",
              "    <tr>\n",
              "      <th>...</th>\n",
              "      <td>...</td>\n",
              "      <td>...</td>\n",
              "      <td>...</td>\n",
              "      <td>...</td>\n",
              "    </tr>\n",
              "    <tr>\n",
              "      <th>346</th>\n",
              "      <td>0.203877</td>\n",
              "      <td>0.195724</td>\n",
              "      <td>2.766999</td>\n",
              "      <td>1.826532</td>\n",
              "    </tr>\n",
              "    <tr>\n",
              "      <th>347</th>\n",
              "      <td>0.229380</td>\n",
              "      <td>0.131514</td>\n",
              "      <td>0.704255</td>\n",
              "      <td>2.762919</td>\n",
              "    </tr>\n",
              "    <tr>\n",
              "      <th>348</th>\n",
              "      <td>0.095878</td>\n",
              "      <td>0.107426</td>\n",
              "      <td>0.946789</td>\n",
              "      <td>3.434620</td>\n",
              "    </tr>\n",
              "    <tr>\n",
              "      <th>349</th>\n",
              "      <td>0.111690</td>\n",
              "      <td>0.130970</td>\n",
              "      <td>1.098922</td>\n",
              "      <td>2.295701</td>\n",
              "    </tr>\n",
              "    <tr>\n",
              "      <th>350</th>\n",
              "      <td>0.113965</td>\n",
              "      <td>0.283822</td>\n",
              "      <td>1.318260</td>\n",
              "      <td>1.494283</td>\n",
              "    </tr>\n",
              "  </tbody>\n",
              "</table>\n",
              "<p>351 rows × 4 columns</p>\n",
              "</div>"
            ],
            "text/plain": [
              "           x1        x2        x3        x4\n",
              "0    0.832354  1.389428  0.962226  0.993671\n",
              "1    1.256087  1.500487  0.904118  0.738035\n",
              "2    0.976953  1.058524  1.217530  1.357238\n",
              "3    1.014365  1.122684  1.195847  0.984144\n",
              "4    1.041386  1.219014  0.864819  1.720825\n",
              "..        ...       ...       ...       ...\n",
              "346  0.203877  0.195724  2.766999  1.826532\n",
              "347  0.229380  0.131514  0.704255  2.762919\n",
              "348  0.095878  0.107426  0.946789  3.434620\n",
              "349  0.111690  0.130970  1.098922  2.295701\n",
              "350  0.113965  0.283822  1.318260  1.494283\n",
              "\n",
              "[351 rows x 4 columns]"
            ]
          },
          "metadata": {
            "tags": []
          }
        }
      ]
    },
    {
      "cell_type": "markdown",
      "metadata": {
        "id": "Vw7mYZGY0XEA"
      },
      "source": [
        "$\\text{There are 4 columns in the data file and each column contains 351 rows.}$"
      ]
    },
    {
      "cell_type": "code",
      "metadata": {
        "colab": {
          "base_uri": "https://localhost:8080/"
        },
        "id": "Tk8WSAJ7397X",
        "outputId": "e26b2bf5-8862-417c-b60c-6f909ea24d7f"
      },
      "source": [
        "train_df.info()"
      ],
      "execution_count": null,
      "outputs": [
        {
          "output_type": "stream",
          "text": [
            "<class 'pandas.core.frame.DataFrame'>\n",
            "RangeIndex: 351 entries, 0 to 350\n",
            "Data columns (total 4 columns):\n",
            " #   Column  Non-Null Count  Dtype  \n",
            "---  ------  --------------  -----  \n",
            " 0   x1      351 non-null    float64\n",
            " 1   x2      351 non-null    float64\n",
            " 2   x3      351 non-null    float64\n",
            " 3   x4      351 non-null    float64\n",
            "dtypes: float64(4)\n",
            "memory usage: 11.1 KB\n"
          ],
          "name": "stdout"
        }
      ]
    },
    {
      "cell_type": "markdown",
      "metadata": {
        "id": "Q-cwPJRz3Nha"
      },
      "source": [
        "$\\text{NO columns contains null values and every values column contains are unique.}$ \\\\\n",
        "$\\text{All the columns content continous data points i.e. float64 and none is object or string.}$"
      ]
    },
    {
      "cell_type": "code",
      "metadata": {
        "colab": {
          "base_uri": "https://localhost:8080/",
          "height": 284
        },
        "id": "TMK4cEm63ddZ",
        "outputId": "8d2c4f05-6172-4b81-dc6c-0ce3fb2abd36"
      },
      "source": [
        "train_df.describe()"
      ],
      "execution_count": null,
      "outputs": [
        {
          "output_type": "execute_result",
          "data": {
            "text/html": [
              "<div>\n",
              "<style scoped>\n",
              "    .dataframe tbody tr th:only-of-type {\n",
              "        vertical-align: middle;\n",
              "    }\n",
              "\n",
              "    .dataframe tbody tr th {\n",
              "        vertical-align: top;\n",
              "    }\n",
              "\n",
              "    .dataframe thead th {\n",
              "        text-align: right;\n",
              "    }\n",
              "</style>\n",
              "<table border=\"1\" class=\"dataframe\">\n",
              "  <thead>\n",
              "    <tr style=\"text-align: right;\">\n",
              "      <th></th>\n",
              "      <th>x1</th>\n",
              "      <th>x2</th>\n",
              "      <th>x3</th>\n",
              "      <th>x4</th>\n",
              "    </tr>\n",
              "  </thead>\n",
              "  <tbody>\n",
              "    <tr>\n",
              "      <th>count</th>\n",
              "      <td>351.000000</td>\n",
              "      <td>351.000000</td>\n",
              "      <td>351.000000</td>\n",
              "      <td>351.000000</td>\n",
              "    </tr>\n",
              "    <tr>\n",
              "      <th>mean</th>\n",
              "      <td>0.278820</td>\n",
              "      <td>0.472738</td>\n",
              "      <td>1.643857</td>\n",
              "      <td>1.482918</td>\n",
              "    </tr>\n",
              "    <tr>\n",
              "      <th>std</th>\n",
              "      <td>0.341446</td>\n",
              "      <td>0.511023</td>\n",
              "      <td>1.668052</td>\n",
              "      <td>0.964016</td>\n",
              "    </tr>\n",
              "    <tr>\n",
              "      <th>min</th>\n",
              "      <td>0.048604</td>\n",
              "      <td>0.047022</td>\n",
              "      <td>0.367717</td>\n",
              "      <td>0.232562</td>\n",
              "    </tr>\n",
              "    <tr>\n",
              "      <th>25%</th>\n",
              "      <td>0.111341</td>\n",
              "      <td>0.115257</td>\n",
              "      <td>0.815180</td>\n",
              "      <td>0.857948</td>\n",
              "    </tr>\n",
              "    <tr>\n",
              "      <th>50%</th>\n",
              "      <td>0.153383</td>\n",
              "      <td>0.165684</td>\n",
              "      <td>1.083528</td>\n",
              "      <td>1.190996</td>\n",
              "    </tr>\n",
              "    <tr>\n",
              "      <th>75%</th>\n",
              "      <td>0.212564</td>\n",
              "      <td>0.854725</td>\n",
              "      <td>1.557597</td>\n",
              "      <td>1.724461</td>\n",
              "    </tr>\n",
              "    <tr>\n",
              "      <th>max</th>\n",
              "      <td>2.037125</td>\n",
              "      <td>2.476118</td>\n",
              "      <td>12.635585</td>\n",
              "      <td>7.726843</td>\n",
              "    </tr>\n",
              "  </tbody>\n",
              "</table>\n",
              "</div>"
            ],
            "text/plain": [
              "               x1          x2          x3          x4\n",
              "count  351.000000  351.000000  351.000000  351.000000\n",
              "mean     0.278820    0.472738    1.643857    1.482918\n",
              "std      0.341446    0.511023    1.668052    0.964016\n",
              "min      0.048604    0.047022    0.367717    0.232562\n",
              "25%      0.111341    0.115257    0.815180    0.857948\n",
              "50%      0.153383    0.165684    1.083528    1.190996\n",
              "75%      0.212564    0.854725    1.557597    1.724461\n",
              "max      2.037125    2.476118   12.635585    7.726843"
            ]
          },
          "metadata": {
            "tags": []
          },
          "execution_count": 5
        }
      ]
    },
    {
      "cell_type": "markdown",
      "metadata": {
        "id": "5ZUdhN1DAH8X"
      },
      "source": [
        "$\\text{Mean and standard deviation have variation and may lead to outliers having more importance. Transformation is needed like log , power or exponential.}$"
      ]
    },
    {
      "cell_type": "code",
      "metadata": {
        "colab": {
          "base_uri": "https://localhost:8080/",
          "height": 1000
        },
        "id": "gGPTv2bK4RFJ",
        "outputId": "49f328f1-f292-4a49-eec7-1db3b7858595"
      },
      "source": [
        "for col in train_df.columns.values :\n",
        "  plt.hist(train_df[col])\n",
        "  plt.xlabel(col)\n",
        "  plt.show()"
      ],
      "execution_count": null,
      "outputs": [
        {
          "output_type": "display_data",
          "data": {
            "image/png": "[encoded data removed]",
            "text/plain": [
              "<Figure size 432x288 with 1 Axes>"
            ]
          },
          "metadata": {
            "tags": [],
            "needs_background": "light"
          }
        },
        {
          "output_type": "display_data",
          "data": {
            "image/png": "[encoded data removed]",
            "text/plain": [
              "<Figure size 432x288 with 1 Axes>"
            ]
          },
          "metadata": {
            "tags": [],
            "needs_background": "light"
          }
        },
        {
          "output_type": "display_data",
          "data": {
            "image/png": "[encoded data removed]",
            "text/plain": [
              "<Figure size 432x288 with 1 Axes>"
            ]
          },
          "metadata": {
            "tags": [],
            "needs_background": "light"
          }
        },
        {
          "output_type": "display_data",
          "data": {
            "image/png": "[encoded data removed]",
            "text/plain": [
              "<Figure size 432x288 with 1 Axes>"
            ]
          },
          "metadata": {
            "tags": [],
            "needs_background": "light"
          }
        }
      ]
    },
    {
      "cell_type": "code",
      "metadata": {
        "colab": {
          "base_uri": "https://localhost:8080/",
          "height": 1000
        },
        "id": "bdTU-KqP6VlX",
        "outputId": "f64cc364-1803-469f-e2b6-716b20e6d5a9"
      },
      "source": [
        "for col in train_df.columns.values :\n",
        "  train_df.boxplot(column = col , grid = False , by = None)\n",
        "  plt.show()"
      ],
      "execution_count": null,
      "outputs": [
        {
          "output_type": "display_data",
          "data": {
            "image/png": "[encoded data removed]",
            "text/plain": [
              "<Figure size 432x288 with 1 Axes>"
            ]
          },
          "metadata": {
            "tags": [],
            "needs_background": "light"
          }
        },
        {
          "output_type": "display_data",
          "data": {
            "image/png": "[encoded data removed]",
            "text/plain": [
              "<Figure size 432x288 with 1 Axes>"
            ]
          },
          "metadata": {
            "tags": [],
            "needs_background": "light"
          }
        },
        {
          "output_type": "display_data",
          "data": {
            "image/png": "[encoded data removed]",
            "text/plain": [
              "<Figure size 432x288 with 1 Axes>"
            ]
          },
          "metadata": {
            "tags": [],
            "needs_background": "light"
          }
        },
        {
          "output_type": "display_data",
          "data": {
            "image/png": "[encoded data removed]",
            "text/plain": [
              "<Figure size 432x288 with 1 Axes>"
            ]
          },
          "metadata": {
            "tags": [],
            "needs_background": "light"
          }
        }
      ]
    },
    {
      "cell_type": "markdown",
      "metadata": {
        "id": "2o_z_Vf45awV"
      },
      "source": [
        "$\\text{From histogram of columns data , it is clear that the histograms are right skewed and more data points are accumulated in range(0,2) this might create bias while clustering.}$ \\\\\n",
        "$\\text{From boxplot we can see that data has many outliers.}$\n",
        "$\\text{We can try power , exponential or log transformation}$ \\\\\n",
        "$\\text{As from histogram the data seems to have power law distribution. Trying log transform.}$ \\\\\n",
        "$\\text{Reference :}$\n",
        " https://www.analyticsvidhya.com/blog/2020/07/types-of-feature-transformation-and-scaling/"
      ]
    },
    {
      "cell_type": "code",
      "metadata": {
        "colab": {
          "base_uri": "https://localhost:8080/",
          "height": 136
        },
        "id": "-VquyEgg5IfB",
        "outputId": "770f6c89-3c6a-4ad4-dbdc-d72e06a8a0d5"
      },
      "source": [
        "from sklearn.preprocessing import FunctionTransformer\n",
        "col = train_df.columns.values\n",
        "transformer = FunctionTransformer(np.log1p, validate=True)\n",
        "new_data = transformer.transform(train_df)\n",
        "data = pd.DataFrame(new_data , columns = col)\n",
        "data.head(3)"
      ],
      "execution_count": null,
      "outputs": [
        {
          "output_type": "execute_result",
          "data": {
            "text/html": [
              "<div>\n",
              "<style scoped>\n",
              "    .dataframe tbody tr th:only-of-type {\n",
              "        vertical-align: middle;\n",
              "    }\n",
              "\n",
              "    .dataframe tbody tr th {\n",
              "        vertical-align: top;\n",
              "    }\n",
              "\n",
              "    .dataframe thead th {\n",
              "        text-align: right;\n",
              "    }\n",
              "</style>\n",
              "<table border=\"1\" class=\"dataframe\">\n",
              "  <thead>\n",
              "    <tr style=\"text-align: right;\">\n",
              "      <th></th>\n",
              "      <th>x1</th>\n",
              "      <th>x2</th>\n",
              "      <th>x3</th>\n",
              "      <th>x4</th>\n",
              "    </tr>\n",
              "  </thead>\n",
              "  <tbody>\n",
              "    <tr>\n",
              "      <th>0</th>\n",
              "      <td>0.605602</td>\n",
              "      <td>0.871054</td>\n",
              "      <td>0.674080</td>\n",
              "      <td>0.689978</td>\n",
              "    </tr>\n",
              "    <tr>\n",
              "      <th>1</th>\n",
              "      <td>0.813632</td>\n",
              "      <td>0.916485</td>\n",
              "      <td>0.644019</td>\n",
              "      <td>0.552755</td>\n",
              "    </tr>\n",
              "    <tr>\n",
              "      <th>2</th>\n",
              "      <td>0.681557</td>\n",
              "      <td>0.721989</td>\n",
              "      <td>0.796394</td>\n",
              "      <td>0.857491</td>\n",
              "    </tr>\n",
              "  </tbody>\n",
              "</table>\n",
              "</div>"
            ],
            "text/plain": [
              "         x1        x2        x3        x4\n",
              "0  0.605602  0.871054  0.674080  0.689978\n",
              "1  0.813632  0.916485  0.644019  0.552755\n",
              "2  0.681557  0.721989  0.796394  0.857491"
            ]
          },
          "metadata": {
            "tags": []
          },
          "execution_count": 10
        }
      ]
    },
    {
      "cell_type": "code",
      "metadata": {
        "colab": {
          "base_uri": "https://localhost:8080/",
          "height": 284
        },
        "id": "7lQKRSTBCeoZ",
        "outputId": "67d87260-526b-4e88-aaf1-9e10cb9996ee"
      },
      "source": [
        "data.describe()"
      ],
      "execution_count": null,
      "outputs": [
        {
          "output_type": "execute_result",
          "data": {
            "text/html": [
              "<div>\n",
              "<style scoped>\n",
              "    .dataframe tbody tr th:only-of-type {\n",
              "        vertical-align: middle;\n",
              "    }\n",
              "\n",
              "    .dataframe tbody tr th {\n",
              "        vertical-align: top;\n",
              "    }\n",
              "\n",
              "    .dataframe thead th {\n",
              "        text-align: right;\n",
              "    }\n",
              "</style>\n",
              "<table border=\"1\" class=\"dataframe\">\n",
              "  <thead>\n",
              "    <tr style=\"text-align: right;\">\n",
              "      <th></th>\n",
              "      <th>x1</th>\n",
              "      <th>x2</th>\n",
              "      <th>x3</th>\n",
              "      <th>x4</th>\n",
              "    </tr>\n",
              "  </thead>\n",
              "  <tbody>\n",
              "    <tr>\n",
              "      <th>count</th>\n",
              "      <td>351.000000</td>\n",
              "      <td>351.000000</td>\n",
              "      <td>351.000000</td>\n",
              "      <td>351.000000</td>\n",
              "    </tr>\n",
              "    <tr>\n",
              "      <th>mean</th>\n",
              "      <td>0.219780</td>\n",
              "      <td>0.336533</td>\n",
              "      <td>0.861058</td>\n",
              "      <td>0.851954</td>\n",
              "    </tr>\n",
              "    <tr>\n",
              "      <th>std</th>\n",
              "      <td>0.212522</td>\n",
              "      <td>0.305263</td>\n",
              "      <td>0.416867</td>\n",
              "      <td>0.321771</td>\n",
              "    </tr>\n",
              "    <tr>\n",
              "      <th>min</th>\n",
              "      <td>0.047460</td>\n",
              "      <td>0.045950</td>\n",
              "      <td>0.313143</td>\n",
              "      <td>0.209095</td>\n",
              "    </tr>\n",
              "    <tr>\n",
              "      <th>25%</th>\n",
              "      <td>0.105567</td>\n",
              "      <td>0.109084</td>\n",
              "      <td>0.596185</td>\n",
              "      <td>0.619472</td>\n",
              "    </tr>\n",
              "    <tr>\n",
              "      <th>50%</th>\n",
              "      <td>0.142699</td>\n",
              "      <td>0.153308</td>\n",
              "      <td>0.734063</td>\n",
              "      <td>0.784356</td>\n",
              "    </tr>\n",
              "    <tr>\n",
              "      <th>75%</th>\n",
              "      <td>0.192735</td>\n",
              "      <td>0.617735</td>\n",
              "      <td>0.939055</td>\n",
              "      <td>1.002271</td>\n",
              "    </tr>\n",
              "    <tr>\n",
              "      <th>max</th>\n",
              "      <td>1.110911</td>\n",
              "      <td>1.245916</td>\n",
              "      <td>2.612683</td>\n",
              "      <td>2.166404</td>\n",
              "    </tr>\n",
              "  </tbody>\n",
              "</table>\n",
              "</div>"
            ],
            "text/plain": [
              "               x1          x2          x3          x4\n",
              "count  351.000000  351.000000  351.000000  351.000000\n",
              "mean     0.219780    0.336533    0.861058    0.851954\n",
              "std      0.212522    0.305263    0.416867    0.321771\n",
              "min      0.047460    0.045950    0.313143    0.209095\n",
              "25%      0.105567    0.109084    0.596185    0.619472\n",
              "50%      0.142699    0.153308    0.734063    0.784356\n",
              "75%      0.192735    0.617735    0.939055    1.002271\n",
              "max      1.110911    1.245916    2.612683    2.166404"
            ]
          },
          "metadata": {
            "tags": []
          },
          "execution_count": 11
        }
      ]
    },
    {
      "cell_type": "markdown",
      "metadata": {
        "id": "gr04oeGdGfFl"
      },
      "source": [
        "$\\text{After log transform we can see that variance and mean are not as much varied as in the original data}$"
      ]
    },
    {
      "cell_type": "markdown",
      "metadata": {
        "id": "YU4SbiBRHvyd"
      },
      "source": [
        "#part b : k-Means training and finding k"
      ]
    },
    {
      "cell_type": "markdown",
      "metadata": {
        "id": "JsdohHxpLNpm"
      },
      "source": [
      ]
    },
    {
      "cell_type": "code",
      "metadata": {
        "colab": {
          "base_uri": "https://localhost:8080/",
          "height": 281
        },
        "id": "VbAcDbPwK93G",
        "outputId": "5d24ed73-0a78-4d33-c95e-d7bcfbe20425"
      },
      "source": [
        "#visualising tSNE\n",
        "from sklearn.manifold import TSNE\n",
        "train_X = data\n",
        "tsne = TSNE(n_components=2,perplexity=100)\n",
        "tsne_dims =tsne.fit_transform(np.array(train_X))\n",
        "sns.scatterplot(x=tsne_dims[:,0],y=tsne_dims[:,1],alpha=.5)\n",
        "plt.title('2-D TSNE')\n",
        "plt.show()"
      ],
      "execution_count": null,
      "outputs": [
        {
          "output_type": "display_data",
          "data": {
            "image/png": "[encoded data removed]",
            "text/plain": [
              "<Figure size 432x288 with 1 Axes>"
            ]
          },
          "metadata": {
            "tags": [],
            "needs_background": "light"
          }
        }
      ]
    },
    {
      "cell_type": "markdown",
      "metadata": {
        "id": "2oj4wKalo3dN"
      },
      "source": [
        "$\\text{Using Silhouette score as measure to decide k }$ \\\\\n",
        "\n",
        "$\\text{Reference :}$ https://medium.com/analytics-vidhya/how-to-determine-the-optimal-k-for-k-means-708505d204eb $\\text{and ML for smart monkeys module}$"
      ]
    },
    {
      "cell_type": "code",
      "metadata": {
        "colab": {
          "base_uri": "https://localhost:8080/"
        },
        "id": "Hd7HPDRADWwP",
        "outputId": "2f203f3c-f272-47a7-b0c1-2ca535b949b7"
      },
      "source": [
        "from sklearn.cluster import KMeans\n",
        "from sklearn import metrics\n",
        "\n",
        "k_range = np.arange(2,10) # trying for k in range [2,10]\n",
        "trials_per_k = 5 #performing 5 trials per k value\n",
        "total_k = k_range.shape[0] #value of k \n",
        "score = np.zeros(total_k) # score is median score from 5 trials\n",
        "\n",
        "for k_num in range(0,total_k):\n",
        "  kmeans = KMeans(n_clusters = k_range[k_num]).fit(train_X) #fitting data\n",
        "  trial_score = np.zeros(trials_per_k)\n",
        "  for trial in range(0,trials_per_k):\n",
        "    labels = kmeans.labels_   #get labels from KMeans\n",
        "    trial_score[trial] = metrics.silhouette_score(train_X,labels , metric = 'euclidean')  #using silhouette score with distance as in euclidean distance between point and centroid\n",
        "  score[k_num] = np.median(trial_score) #store median of score \n",
        "  print('For %d clusters,score is %f  ' %(k_num+2 , score[k_num]))\n"
      ],
      "execution_count": null,
      "outputs": [
        {
          "output_type": "stream",
          "text": [
            "For 2 clusters,score is 0.402478  \n",
            "For 3 clusters,score is 0.406353  \n",
            "For 4 clusters,score is 0.388558  \n",
            "For 5 clusters,score is 0.409768  \n",
            "For 6 clusters,score is 0.399445  \n",
            "For 7 clusters,score is 0.354619  \n",
            "For 8 clusters,score is 0.334770  \n",
            "For 9 clusters,score is 0.317037  \n"
          ],
          "name": "stdout"
        }
      ]
    },
    {
      "cell_type": "code",
      "metadata": {
        "colab": {
          "base_uri": "https://localhost:8080/",
          "height": 295
        },
        "id": "7u3tL_4hJAS6",
        "outputId": "6ce79974-6093-4c2b-cbcb-b8861d30a2bc"
      },
      "source": [
        "plt.plot(k_range, score )\n",
        "plt.title('Clustering Score')\n",
        "plt.xlabel('k value')\n",
        "plt.show()"
      ],
      "execution_count": null,
      "outputs": [
        {
          "output_type": "display_data",
          "data": {
            "image/png": "[encoded data removed]",
            "text/plain": [
              "<Figure size 432x288 with 1 Axes>"
            ]
          },
          "metadata": {
            "tags": [],
            "needs_background": "light"
          }
        }
      ]
    },
    {
      "cell_type": "markdown",
      "metadata": {
        "id": "IdfP6XMP0BAX"
      },
      "source": [
        "$\\text{Using Silhoouette criteria to calculate score, which considers euclidean distance. we obtain k value as 5}$"
      ]
    },
    {
      "cell_type": "markdown",
      "metadata": {
        "id": "sYfrcaKPtHcs"
      },
      "source": [
        "$\\text{visualising TSNE embedding}$"
      ]
    },
    {
      "cell_type": "code",
      "metadata": {
        "colab": {
          "base_uri": "https://localhost:8080/",
          "height": 281
        },
        "id": "ZG-MGkaKraXT",
        "outputId": "f3e4ca8b-8f59-499e-96e7-c5166a2c34f3"
      },
      "source": [
        "kmeans = KMeans(n_clusters = 5).fit(train_X) #fitting data for 5 clusters i.e. k = 5\n",
        "labels = kmeans.labels_\n",
        "sns.scatterplot(x=tsne_dims[:,0],y= tsne_dims[:,1],hue=labels,palette='bright',alpha=0.5)\n",
        "plt.title(\"2-D TSNE\")\n",
        "plt.legend()\n",
        "plt.show()"
      ],
      "execution_count": null,
      "outputs": [
        {
          "output_type": "display_data",
          "data": {
            "image/png": "[encoded data removed]",
            "text/plain": [
              "<Figure size 432x288 with 1 Axes>"
            ]
          },
          "metadata": {
            "tags": [],
            "needs_background": "light"
          }
        }
      ]
    },
    {
      "cell_type": "markdown",
      "metadata": {
        "id": "xwO8PVPvcNit"
      },
      "source": [
        "$\\textbf{We can confirm from above method that k = 5}$"
      ]
    },
    {
      "cell_type": "markdown",
      "metadata": {
        "id": "nS09bkr1dPef"
      },
      "source": [
        "#part c: training DBSCAN"
      ]
    },
    {
      "cell_type": "code",
      "metadata": {
        "colab": {
          "base_uri": "https://localhost:8080/"
        },
        "id": "EHkDoiQgd8JF",
        "outputId": "e97baa43-12a9-476a-cdac-601790d8bd9f"
      },
      "source": [
        "from sklearn.cluster import DBSCAN\n",
        "eps_list = [0.1,0.2,0.3,0.4,0.5,0.6] #checking for different eps value . eps value is the distance upto which we consider the points in same cluster hence keeping it minimum\n",
        "sample = [5,6,7,8,9,10] #min no. of points to form cluster , considering points which are : dimensions or features of data < points < 2*k value from kmeans\n",
        "p,q = [],[] #storing noise and cluster numbers\n",
        "\n",
        "for i in eps_list :\n",
        "  for j in sample :\n",
        "    Clustering = DBSCAN(eps= i, min_samples= j).fit(train_X)\n",
        "    core_samples_mask = np.zeros_like(Clustering.labels_, dtype=bool)\n",
        "    core_samples_mask[Clustering.core_sample_indices_] = True\n",
        "    labels = Clustering.labels_ \n",
        "    unique_labels = set(labels)\n",
        "\n",
        "    n_clusters = len(set(labels)) - (1 if -1 in labels else 0)\n",
        "    n_noise = list(labels).count(-1)\n",
        "    p.append(n_clusters)\n",
        "    q.append(n_noise)\n",
        "\n",
        "    if n_clusters == 4 : #as we have subtracted 1 for -1 label \n",
        "      print(\"\\nFor obtaining 5 clusters as obtained in k-means\")\n",
        "      print(\"eps value is %f snd min samples are %f \" %(i, j))\n",
        "      print('Estimated number of noise points: %d' % n_noise)\n"
      ],
      "execution_count": null,
      "outputs": [
        {
          "output_type": "stream",
          "text": [
            "\n",
            "For obtaining 5 clusters as obtained in k-means\n",
            "eps value is 0.100000 snd min samples are 5.000000 \n",
            "Estimated number of noise points: 250\n",
            "\n",
            "For obtaining 5 clusters as obtained in k-means\n",
            "eps value is 0.100000 snd min samples are 7.000000 \n",
            "Estimated number of noise points: 274\n",
            "\n",
            "For obtaining 5 clusters as obtained in k-means\n",
            "eps value is 0.200000 snd min samples are 8.000000 \n",
            "Estimated number of noise points: 78\n",
            "\n",
            "For obtaining 5 clusters as obtained in k-means\n",
            "eps value is 0.200000 snd min samples are 10.000000 \n",
            "Estimated number of noise points: 107\n"
          ],
          "name": "stdout"
        }
      ]
    },
    {
      "cell_type": "markdown",
      "metadata": {
        "id": "BlIL0kc5Bggo"
      },
      "source": [
        "$\\text{Here we can see that for  $\\epsilon$ = 0.1 and  min points = 5 , 7 and for $\\epsilon$ = 0.2 and  minpts = 8 , 10 . we can obtain the same number of clusters as obtained in K-Means.}$ \\\\\n",
        "$\\text{But the noise points will be different in the different clusters formed by these value sets.}$"
      ]
    },
    {
      "cell_type": "markdown",
      "metadata": {
        "id": "VV34wYGHxhiP"
      },
      "source": [
        "#part d : Visualising t-sne using cluster assignment as label\n",
        "\n",
        "---\n",
        "\n",
        "\n",
        "$\\text{We get minimum noise points at $\\epsilon$ value = 0.2 and min samples  = 8 in DBSCAN .Using that for visualing t-sne by using cluster assignment as label.}$"
      ]
    },
    {
      "cell_type": "code",
      "metadata": {
        "colab": {
          "base_uri": "https://localhost:8080/",
          "height": 281
        },
        "id": "h4l3PvZktx-U",
        "outputId": "8970afb9-eabc-49d6-ac3c-b4a54a49ddaa"
      },
      "source": [
        "Clustering = DBSCAN(eps= 0.2, min_samples= 8).fit(train_X)\n",
        "labels = Clustering.labels_\n",
        "sns.scatterplot(x = tsne_dims[:,0] , y = tsne_dims[:,1] , hue = labels , palette = \"bright\" , alpha = 0.8)\n",
        "plt.title(\"2D t-sne visualisation for %d clusters\" % len(pd.unique(labels)))\n",
        "plt.show()"
      ],
      "execution_count": null,
      "outputs": [
        {
          "output_type": "display_data",
          "data": {
            "image/png": "[encoded data removed]",
            "text/plain": [
              "<Figure size 432x288 with 1 Axes>"
            ]
          },
          "metadata": {
            "tags": [],
            "needs_background": "light"
          }
        }
      ]
    },
    {
      "cell_type": "markdown",
      "metadata": {
        "id": "xMm1W5VN2Yva"
      },
      "source": [
        "#$\\Large \\textbf{Solution to problem 2}$"
      ]
    },
    {
      "cell_type": "markdown",
      "metadata": {
        "id": "XiOR5Qzt3t4t"
      },
      "source": [
        "#part a : Visualising and pre-processing PCA file"
      ]
    },
    {
      "cell_type": "code",
      "metadata": {
        "colab": {
          "resources": {
            "http://localhost:8080/nbextensions/google.colab/files.js": {
              "data": "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",
              "ok": true,
              "headers": [
                [
                  "content-type",
                  "application/javascript"
                ]
              ],
              "status": 200,
              "status_text": ""
            }
          },
          "base_uri": "https://localhost:8080/",
          "height": 90
        },
        "id": "s_rOu4MSzJ9U",
        "outputId": "04f0bca4-24c7-4c5a-a1b3-0241e18e5310"
      },
      "source": [
        "file_uploaded = files.upload()\n",
        "for i in file_uploaded.keys() :\n",
        "  print(\"You have uploaded file {file} and file size is {len} bytes\".format(file = i , len = len(i)))"
      ],
      "execution_count": null,
      "outputs": [
        {
          "output_type": "display_data",
          "data": {
            "text/html": [
              "\n",
              "     <input type=\"file\" id=\"files-f10c8b70-c2c0-454b-84ea-1b3564d4b493\" name=\"files[]\" multiple disabled\n",
              "        style=\"border:none\" />\n",
              "     <output id=\"result-f10c8b70-c2c0-454b-84ea-1b3564d4b493\">\n",
              "      Upload widget is only available when the cell has been executed in the\n",
              "      current browser session. Please rerun this cell to enable.\n",
              "      </output>\n",
              "      <script src=\"/nbextensions/google.colab/files.js\"></script> "
            ],
            "text/plain": [
              "<IPython.core.display.HTML object>"
            ]
          },
          "metadata": {
            "tags": []
          }
        },
        {
          "output_type": "stream",
          "text": [
            "Saving DataPCA.csv to DataPCA.csv\n",
            "You have uploaded file DataPCA.csv and file size is 11 bytes\n"
          ],
          "name": "stdout"
        }
      ]
    },
    {
      "cell_type": "code",
      "metadata": {
        "colab": {
          "base_uri": "https://localhost:8080/",
          "height": 402
        },
        "id": "fuUyjNJt2ofx",
        "outputId": "20817aff-7ad4-4f33-8011-fd01d91ded65"
      },
      "source": [
        "train_df = pd.read_csv(\"/content/DataPCA.csv\")\n",
        "display(train_df)"
      ],
      "execution_count": null,
      "outputs": [
        {
          "output_type": "display_data",
          "data": {
            "text/html": [
              "<div>\n",
              "<style scoped>\n",
              "    .dataframe tbody tr th:only-of-type {\n",
              "        vertical-align: middle;\n",
              "    }\n",
              "\n",
              "    .dataframe tbody tr th {\n",
              "        vertical-align: top;\n",
              "    }\n",
              "\n",
              "    .dataframe thead th {\n",
              "        text-align: right;\n",
              "    }\n",
              "</style>\n",
              "<table border=\"1\" class=\"dataframe\">\n",
              "  <thead>\n",
              "    <tr style=\"text-align: right;\">\n",
              "      <th></th>\n",
              "      <th>x1</th>\n",
              "      <th>x2</th>\n",
              "      <th>x3</th>\n",
              "      <th>x4</th>\n",
              "      <th>x5</th>\n",
              "      <th>x6</th>\n",
              "      <th>x7</th>\n",
              "    </tr>\n",
              "  </thead>\n",
              "  <tbody>\n",
              "    <tr>\n",
              "      <th>0</th>\n",
              "      <td>0.840261</td>\n",
              "      <td>-1.088160</td>\n",
              "      <td>4.861744</td>\n",
              "      <td>4.273055</td>\n",
              "      <td>4.312457</td>\n",
              "      <td>-0.137834</td>\n",
              "      <td>0.076453</td>\n",
              "    </tr>\n",
              "    <tr>\n",
              "      <th>1</th>\n",
              "      <td>1.320591</td>\n",
              "      <td>-1.174113</td>\n",
              "      <td>5.247360</td>\n",
              "      <td>3.295027</td>\n",
              "      <td>4.283410</td>\n",
              "      <td>-0.363759</td>\n",
              "      <td>-0.170605</td>\n",
              "    </tr>\n",
              "    <tr>\n",
              "      <th>2</th>\n",
              "      <td>1.537909</td>\n",
              "      <td>-1.175882</td>\n",
              "      <td>5.556251</td>\n",
              "      <td>3.394183</td>\n",
              "      <td>3.971574</td>\n",
              "      <td>-0.888398</td>\n",
              "      <td>0.080617</td>\n",
              "    </tr>\n",
              "    <tr>\n",
              "      <th>3</th>\n",
              "      <td>0.363552</td>\n",
              "      <td>-1.130608</td>\n",
              "      <td>4.329890</td>\n",
              "      <td>5.547488</td>\n",
              "      <td>4.539732</td>\n",
              "      <td>0.342330</td>\n",
              "      <td>0.251953</td>\n",
              "    </tr>\n",
              "    <tr>\n",
              "      <th>4</th>\n",
              "      <td>1.567938</td>\n",
              "      <td>-1.114719</td>\n",
              "      <td>5.542104</td>\n",
              "      <td>2.493071</td>\n",
              "      <td>4.156157</td>\n",
              "      <td>-0.609694</td>\n",
              "      <td>-0.291367</td>\n",
              "    </tr>\n",
              "    <tr>\n",
              "      <th>...</th>\n",
              "      <td>...</td>\n",
              "      <td>...</td>\n",
              "      <td>...</td>\n",
              "      <td>...</td>\n",
              "      <td>...</td>\n",
              "      <td>...</td>\n",
              "      <td>...</td>\n",
              "    </tr>\n",
              "    <tr>\n",
              "      <th>185</th>\n",
              "      <td>0.894296</td>\n",
              "      <td>-1.270097</td>\n",
              "      <td>4.618647</td>\n",
              "      <td>4.005702</td>\n",
              "      <td>4.634847</td>\n",
              "      <td>0.156118</td>\n",
              "      <td>-0.215169</td>\n",
              "    </tr>\n",
              "    <tr>\n",
              "      <th>186</th>\n",
              "      <td>0.926559</td>\n",
              "      <td>-1.203508</td>\n",
              "      <td>4.766199</td>\n",
              "      <td>3.907673</td>\n",
              "      <td>4.538084</td>\n",
              "      <td>0.073321</td>\n",
              "      <td>-0.197924</td>\n",
              "    </tr>\n",
              "    <tr>\n",
              "      <th>187</th>\n",
              "      <td>1.678706</td>\n",
              "      <td>-1.227245</td>\n",
              "      <td>5.613809</td>\n",
              "      <td>2.864530</td>\n",
              "      <td>4.046335</td>\n",
              "      <td>-0.906304</td>\n",
              "      <td>-0.099063</td>\n",
              "    </tr>\n",
              "    <tr>\n",
              "      <th>188</th>\n",
              "      <td>1.693254</td>\n",
              "      <td>-1.323340</td>\n",
              "      <td>5.470576</td>\n",
              "      <td>3.023584</td>\n",
              "      <td>4.208331</td>\n",
              "      <td>-0.693895</td>\n",
              "      <td>-0.189082</td>\n",
              "    </tr>\n",
              "    <tr>\n",
              "      <th>189</th>\n",
              "      <td>1.806170</td>\n",
              "      <td>-1.347104</td>\n",
              "      <td>5.541666</td>\n",
              "      <td>2.818543</td>\n",
              "      <td>4.240505</td>\n",
              "      <td>-0.690840</td>\n",
              "      <td>-0.222595</td>\n",
              "    </tr>\n",
              "  </tbody>\n",
              "</table>\n",
              "<p>190 rows × 7 columns</p>\n",
              "</div>"
            ],
            "text/plain": [
              "           x1        x2        x3        x4        x5        x6        x7\n",
              "0    0.840261 -1.088160  4.861744  4.273055  4.312457 -0.137834  0.076453\n",
              "1    1.320591 -1.174113  5.247360  3.295027  4.283410 -0.363759 -0.170605\n",
              "2    1.537909 -1.175882  5.556251  3.394183  3.971574 -0.888398  0.080617\n",
              "3    0.363552 -1.130608  4.329890  5.547488  4.539732  0.342330  0.251953\n",
              "4    1.567938 -1.114719  5.542104  2.493071  4.156157 -0.609694 -0.291367\n",
              "..        ...       ...       ...       ...       ...       ...       ...\n",
              "185  0.894296 -1.270097  4.618647  4.005702  4.634847  0.156118 -0.215169\n",
              "186  0.926559 -1.203508  4.766199  3.907673  4.538084  0.073321 -0.197924\n",
              "187  1.678706 -1.227245  5.613809  2.864530  4.046335 -0.906304 -0.099063\n",
              "188  1.693254 -1.323340  5.470576  3.023584  4.208331 -0.693895 -0.189082\n",
              "189  1.806170 -1.347104  5.541666  2.818543  4.240505 -0.690840 -0.222595\n",
              "\n",
              "[190 rows x 7 columns]"
            ]
          },
          "metadata": {
            "tags": []
          }
        }
      ]
    },
    {
      "cell_type": "code",
      "metadata": {
        "colab": {
          "base_uri": "https://localhost:8080/"
        },
        "id": "ZMi_F1G_3Hmt",
        "outputId": "aa2425a1-b17d-4c54-fb98-f16bb882b57d"
      },
      "source": [
        "train_df.info()"
      ],
      "execution_count": null,
      "outputs": [
        {
          "output_type": "stream",
          "text": [
            "<class 'pandas.core.frame.DataFrame'>\n",
            "RangeIndex: 190 entries, 0 to 189\n",
            "Data columns (total 7 columns):\n",
            " #   Column  Non-Null Count  Dtype  \n",
            "---  ------  --------------  -----  \n",
            " 0   x1      190 non-null    float64\n",
            " 1   x2      190 non-null    float64\n",
            " 2   x3      190 non-null    float64\n",
            " 3   x4      190 non-null    float64\n",
            " 4   x5      190 non-null    float64\n",
            " 5   x6      190 non-null    float64\n",
            " 6   x7      190 non-null    float64\n",
            "dtypes: float64(7)\n",
            "memory usage: 10.5 KB\n"
          ],
          "name": "stdout"
        }
      ]
    },
    {
      "cell_type": "code",
      "metadata": {
        "colab": {
          "base_uri": "https://localhost:8080/",
          "height": 284
        },
        "id": "MyAj92CF28u3",
        "outputId": "ad5336e6-84c9-4856-a544-8f1635db5e98"
      },
      "source": [
        "train_df.describe()"
      ],
      "execution_count": null,
      "outputs": [
        {
          "output_type": "execute_result",
          "data": {
            "text/html": [
              "<div>\n",
              "<style scoped>\n",
              "    .dataframe tbody tr th:only-of-type {\n",
              "        vertical-align: middle;\n",
              "    }\n",
              "\n",
              "    .dataframe tbody tr th {\n",
              "        vertical-align: top;\n",
              "    }\n",
              "\n",
              "    .dataframe thead th {\n",
              "        text-align: right;\n",
              "    }\n",
              "</style>\n",
              "<table border=\"1\" class=\"dataframe\">\n",
              "  <thead>\n",
              "    <tr style=\"text-align: right;\">\n",
              "      <th></th>\n",
              "      <th>x1</th>\n",
              "      <th>x2</th>\n",
              "      <th>x3</th>\n",
              "      <th>x4</th>\n",
              "      <th>x5</th>\n",
              "      <th>x6</th>\n",
              "      <th>x7</th>\n",
              "    </tr>\n",
              "  </thead>\n",
              "  <tbody>\n",
              "    <tr>\n",
              "      <th>count</th>\n",
              "      <td>190.000000</td>\n",
              "      <td>190.000000</td>\n",
              "      <td>190.000000</td>\n",
              "      <td>190.000000</td>\n",
              "      <td>190.000000</td>\n",
              "      <td>190.000000</td>\n",
              "      <td>190.000000</td>\n",
              "    </tr>\n",
              "    <tr>\n",
              "      <th>mean</th>\n",
              "      <td>1.286644</td>\n",
              "      <td>-1.135656</td>\n",
              "      <td>5.254907</td>\n",
              "      <td>3.342504</td>\n",
              "      <td>4.233765</td>\n",
              "      <td>-0.412937</td>\n",
              "      <td>-0.119058</td>\n",
              "    </tr>\n",
              "    <tr>\n",
              "      <th>std</th>\n",
              "      <td>0.508765</td>\n",
              "      <td>0.233921</td>\n",
              "      <td>0.549171</td>\n",
              "      <td>0.995603</td>\n",
              "      <td>0.328327</td>\n",
              "      <td>0.482069</td>\n",
              "      <td>0.239692</td>\n",
              "    </tr>\n",
              "    <tr>\n",
              "      <th>min</th>\n",
              "      <td>-0.074116</td>\n",
              "      <td>-1.734167</td>\n",
              "      <td>3.967657</td>\n",
              "      <td>0.649854</td>\n",
              "      <td>3.306106</td>\n",
              "      <td>-1.936695</td>\n",
              "      <td>-0.786517</td>\n",
              "    </tr>\n",
              "    <tr>\n",
              "      <th>25%</th>\n",
              "      <td>0.928244</td>\n",
              "      <td>-1.298233</td>\n",
              "      <td>4.883782</td>\n",
              "      <td>2.645102</td>\n",
              "      <td>4.020569</td>\n",
              "      <td>-0.741547</td>\n",
              "      <td>-0.278181</td>\n",
              "    </tr>\n",
              "    <tr>\n",
              "      <th>50%</th>\n",
              "      <td>1.271034</td>\n",
              "      <td>-1.145689</td>\n",
              "      <td>5.249568</td>\n",
              "      <td>3.400840</td>\n",
              "      <td>4.242064</td>\n",
              "      <td>-0.377963</td>\n",
              "      <td>-0.122850</td>\n",
              "    </tr>\n",
              "    <tr>\n",
              "      <th>75%</th>\n",
              "      <td>1.637682</td>\n",
              "      <td>-0.997318</td>\n",
              "      <td>5.625487</td>\n",
              "      <td>3.996560</td>\n",
              "      <td>4.463035</td>\n",
              "      <td>-0.096413</td>\n",
              "      <td>0.036964</td>\n",
              "    </tr>\n",
              "    <tr>\n",
              "      <th>max</th>\n",
              "      <td>2.504835</td>\n",
              "      <td>-0.440730</td>\n",
              "      <td>6.857529</td>\n",
              "      <td>5.817673</td>\n",
              "      <td>5.056247</td>\n",
              "      <td>0.823165</td>\n",
              "      <td>0.526882</td>\n",
              "    </tr>\n",
              "  </tbody>\n",
              "</table>\n",
              "</div>"
            ],
            "text/plain": [
              "               x1          x2          x3  ...          x5          x6          x7\n",
              "count  190.000000  190.000000  190.000000  ...  190.000000  190.000000  190.000000\n",
              "mean     1.286644   -1.135656    5.254907  ...    4.233765   -0.412937   -0.119058\n",
              "std      0.508765    0.233921    0.549171  ...    0.328327    0.482069    0.239692\n",
              "min     -0.074116   -1.734167    3.967657  ...    3.306106   -1.936695   -0.786517\n",
              "25%      0.928244   -1.298233    4.883782  ...    4.020569   -0.741547   -0.278181\n",
              "50%      1.271034   -1.145689    5.249568  ...    4.242064   -0.377963   -0.122850\n",
              "75%      1.637682   -0.997318    5.625487  ...    4.463035   -0.096413    0.036964\n",
              "max      2.504835   -0.440730    6.857529  ...    5.056247    0.823165    0.526882\n",
              "\n",
              "[8 rows x 7 columns]"
            ]
          },
          "metadata": {
            "tags": []
          },
          "execution_count": 29
        }
      ]
    },
    {
      "cell_type": "markdown",
      "metadata": {
        "id": "eMZrs1ed3PYO"
      },
      "source": [
        "$\\text{File has 7 features(columns) and 190 rows.All the columns in data set contains continuous values i.e. float64 and there are no null values in dataset.}$"
      ]
    },
    {
      "cell_type": "code",
      "metadata": {
        "colab": {
          "base_uri": "https://localhost:8080/",
          "height": 1000
        },
        "id": "AvE4VLBOdOID",
        "outputId": "f241af08-2344-4b78-a578-c9a6844be76a"
      },
      "source": [
        "for col in train_df.columns.values :\n",
        "  plt.hist(train_df[col])\n",
        "  plt.xlabel(col)\n",
        "  plt.show()"
      ],
      "execution_count": null,
      "outputs": [
        {
          "output_type": "display_data",
          "data": {
            "image/png": "[encoded data removed]",
            "text/plain": [
              "<Figure size 432x288 with 1 Axes>"
            ]
          },
          "metadata": {
            "tags": [],
            "needs_background": "light"
          }
        },
        {
          "output_type": "display_data",
          "data": {
            "image/png": "[encoded data removed]",
            "text/plain": [
              "<Figure size 432x288 with 1 Axes>"
            ]
          },
          "metadata": {
            "tags": [],
            "needs_background": "light"
          }
        },
        {
          "output_type": "display_data",
          "data": {
            "image/png": "[encoded data removed]",
            "text/plain": [
              "<Figure size 432x288 with 1 Axes>"
            ]
          },
          "metadata": {
            "tags": [],
            "needs_background": "light"
          }
        },
        {
          "output_type": "display_data",
          "data": {
            "image/png": "[encoded data removed]",
            "text/plain": [
              "<Figure size 432x288 with 1 Axes>"
            ]
          },
          "metadata": {
            "tags": [],
            "needs_background": "light"
          }
        },
        {
          "output_type": "display_data",
          "data": {
            "image/png": "[encoded data removed]",
            "text/plain": [
              "<Figure size 432x288 with 1 Axes>"
            ]
          },
          "metadata": {
            "tags": [],
            "needs_background": "light"
          }
        },
        {
          "output_type": "display_data",
          "data": {
            "image/png": "[encoded data removed]",
            "text/plain": [
              "<Figure size 432x288 with 1 Axes>"
            ]
          },
          "metadata": {
            "tags": [],
            "needs_background": "light"
          }
        },
        {
          "output_type": "display_data",
          "data": {
            "image/png": "[encoded data removed]",
            "text/plain": [
              "<Figure size 432x288 with 1 Axes>"
            ]
          },
          "metadata": {
            "tags": [],
            "needs_background": "light"
          }
        }
      ]
    },
    {
      "cell_type": "markdown",
      "metadata": {
        "id": "qIzzfinbdg5R"
      },
      "source": [
        "$\\text{The features (columns) seems to have normal distribution , some outliers are there as the plot is not entirely gaussian bell shaped but can be normalise using standard scalar.}$"
      ]
    },
    {
      "cell_type": "code",
      "metadata": {
        "colab": {
          "base_uri": "https://localhost:8080/"
        },
        "id": "xL-GvzHVx6Hn",
        "outputId": "03d92830-cacb-4043-8084-f6bd24ffcd12"
      },
      "source": [
        "train_df.columns.values"
      ],
      "execution_count": null,
      "outputs": [
        {
          "output_type": "execute_result",
          "data": {
            "text/plain": [
              "array(['x1', 'x2', 'x3', 'x4', 'x5', 'x6', 'x7'], dtype=object)"
            ]
          },
          "metadata": {
            "tags": []
          },
          "execution_count": 31
        }
      ]
    },
    {
      "cell_type": "code",
      "metadata": {
        "id": "VePkzg4jdbPB"
      },
      "source": [
        "#fitting standard scalar\n",
        "from sklearn.preprocessing import StandardScaler\n",
        "scaler = StandardScaler()\n",
        "columns = train_df.columns.values\n",
        "X_train = scaler.fit_transform(train_df)\n",
        "X_train = pd.DataFrame(X_train , columns = columns)"
      ],
      "execution_count": null,
      "outputs": []
    },
    {
      "cell_type": "code",
      "metadata": {
        "colab": {
          "base_uri": "https://localhost:8080/",
          "height": 284
        },
        "id": "uQyqObFpfqaz",
        "outputId": "abee778b-c0c4-4e93-bd35-88c994e20301"
      },
      "source": [
        "X_train.describe()"
      ],
      "execution_count": null,
      "outputs": [
        {
          "output_type": "execute_result",
          "data": {
            "text/html": [
              "<div>\n",
              "<style scoped>\n",
              "    .dataframe tbody tr th:only-of-type {\n",
              "        vertical-align: middle;\n",
              "    }\n",
              "\n",
              "    .dataframe tbody tr th {\n",
              "        vertical-align: top;\n",
              "    }\n",
              "\n",
              "    .dataframe thead th {\n",
              "        text-align: right;\n",
              "    }\n",
              "</style>\n",
              "<table border=\"1\" class=\"dataframe\">\n",
              "  <thead>\n",
              "    <tr style=\"text-align: right;\">\n",
              "      <th></th>\n",
              "      <th>x1</th>\n",
              "      <th>x2</th>\n",
              "      <th>x3</th>\n",
              "      <th>x4</th>\n",
              "      <th>x5</th>\n",
              "      <th>x6</th>\n",
              "      <th>x7</th>\n",
              "    </tr>\n",
              "  </thead>\n",
              "  <tbody>\n",
              "    <tr>\n",
              "      <th>count</th>\n",
              "      <td>1.900000e+02</td>\n",
              "      <td>1.900000e+02</td>\n",
              "      <td>1.900000e+02</td>\n",
              "      <td>1.900000e+02</td>\n",
              "      <td>1.900000e+02</td>\n",
              "      <td>1.900000e+02</td>\n",
              "      <td>1.900000e+02</td>\n",
              "    </tr>\n",
              "    <tr>\n",
              "      <th>mean</th>\n",
              "      <td>1.051790e-17</td>\n",
              "      <td>-4.890825e-16</td>\n",
              "      <td>8.688956e-16</td>\n",
              "      <td>4.177945e-16</td>\n",
              "      <td>-2.178521e-15</td>\n",
              "      <td>9.641410e-17</td>\n",
              "      <td>4.996004e-17</td>\n",
              "    </tr>\n",
              "    <tr>\n",
              "      <th>std</th>\n",
              "      <td>1.002642e+00</td>\n",
              "      <td>1.002642e+00</td>\n",
              "      <td>1.002642e+00</td>\n",
              "      <td>1.002642e+00</td>\n",
              "      <td>1.002642e+00</td>\n",
              "      <td>1.002642e+00</td>\n",
              "      <td>1.002642e+00</td>\n",
              "    </tr>\n",
              "    <tr>\n",
              "      <th>min</th>\n",
              "      <td>-2.681699e+00</td>\n",
              "      <td>-2.565362e+00</td>\n",
              "      <td>-2.350181e+00</td>\n",
              "      <td>-2.711687e+00</td>\n",
              "      <td>-2.832879e+00</td>\n",
              "      <td>-3.169225e+00</td>\n",
              "      <td>-2.792006e+00</td>\n",
              "    </tr>\n",
              "    <tr>\n",
              "      <th>25%</th>\n",
              "      <td>-7.063108e-01</td>\n",
              "      <td>-6.968414e-01</td>\n",
              "      <td>-6.775764e-01</td>\n",
              "      <td>-7.023327e-01</td>\n",
              "      <td>-6.510581e-01</td>\n",
              "      <td>-6.834685e-01</td>\n",
              "      <td>-6.656180e-01</td>\n",
              "    </tr>\n",
              "    <tr>\n",
              "      <th>50%</th>\n",
              "      <td>-3.076318e-02</td>\n",
              "      <td>-4.300486e-02</td>\n",
              "      <td>-9.747732e-03</td>\n",
              "      <td>5.874870e-02</td>\n",
              "      <td>2.534350e-02</td>\n",
              "      <td>7.274151e-02</td>\n",
              "      <td>-1.586079e-02</td>\n",
              "    </tr>\n",
              "    <tr>\n",
              "      <th>75%</th>\n",
              "      <td>6.918035e-01</td>\n",
              "      <td>5.929503e-01</td>\n",
              "      <td>6.765831e-01</td>\n",
              "      <td>6.586803e-01</td>\n",
              "      <td>7.001440e-01</td>\n",
              "      <td>6.583283e-01</td>\n",
              "      <td>6.526457e-01</td>\n",
              "    </tr>\n",
              "    <tr>\n",
              "      <th>max</th>\n",
              "      <td>2.400735e+00</td>\n",
              "      <td>2.978622e+00</td>\n",
              "      <td>2.925970e+00</td>\n",
              "      <td>2.492669e+00</td>\n",
              "      <td>2.511689e+00</td>\n",
              "      <td>2.570934e+00</td>\n",
              "      <td>2.701991e+00</td>\n",
              "    </tr>\n",
              "  </tbody>\n",
              "</table>\n",
              "</div>"
            ],
            "text/plain": [
              "                 x1            x2  ...            x6            x7\n",
              "count  1.900000e+02  1.900000e+02  ...  1.900000e+02  1.900000e+02\n",
              "mean   1.051790e-17 -4.890825e-16  ...  9.641410e-17  4.996004e-17\n",
              "std    1.002642e+00  1.002642e+00  ...  1.002642e+00  1.002642e+00\n",
              "min   -2.681699e+00 -2.565362e+00  ... -3.169225e+00 -2.792006e+00\n",
              "25%   -7.063108e-01 -6.968414e-01  ... -6.834685e-01 -6.656180e-01\n",
              "50%   -3.076318e-02 -4.300486e-02  ...  7.274151e-02 -1.586079e-02\n",
              "75%    6.918035e-01  5.929503e-01  ...  6.583283e-01  6.526457e-01\n",
              "max    2.400735e+00  2.978622e+00  ...  2.570934e+00  2.701991e+00\n",
              "\n",
              "[8 rows x 7 columns]"
            ]
          },
          "metadata": {
            "tags": []
          },
          "execution_count": 33
        }
      ]
    },
    {
      "cell_type": "markdown",
      "metadata": {
        "id": "c2_UffHdDpJk"
      },
      "source": [
        "$\\text{After preprocessing we can see that its now gaussian normal distribution as mean is zero and standard deviation 1.}$"
      ]
    },
    {
      "cell_type": "markdown",
      "metadata": {
        "id": "2pukwcyNgvjF"
      },
      "source": [
        "#part b : Training PCA"
      ]
    },
    {
      "cell_type": "markdown",
      "metadata": {
        "id": "GOG5V1wZwkWl"
      },
      "source": [
        "$\\text{Reference :}$ https://scikit-learn.org/stable/modules/generated/sklearn.decomposition.PCA.html"
      ]
    },
    {
      "cell_type": "code",
      "metadata": {
        "id": "pmw3QOLNf5JA"
      },
      "source": [
        "from sklearn.decomposition import PCA\n",
        "pca = PCA()\n",
        "train = pca.fit_transform(X_train)"
      ],
      "execution_count": null,
      "outputs": []
    },
    {
      "cell_type": "markdown",
      "metadata": {
        "id": "MRQfUm2jiBs8"
      },
      "source": [
        "#part c : variance explained vs components plot"
      ]
    },
    {
      "cell_type": "code",
      "metadata": {
        "colab": {
          "base_uri": "https://localhost:8080/"
        },
        "id": "i6a0NbniiAAy",
        "outputId": "f1af6f41-dc2c-4ac2-f1f4-799529450afc"
      },
      "source": [
        "variance = pca.explained_variance_ratio_\n",
        "print(\"Variance from PCA is :\\n\",variance)\n",
        "dimensions = pca.n_components_\n",
        "print(\"Dimensions after fitting PCA are :\\n\", dimensions)"
      ],
      "execution_count": null,
      "outputs": [
        {
          "output_type": "stream",
          "text": [
            "Variance from PCA is :\n",
            " [6.09270567e-01 3.19460967e-01 6.49562011e-02 6.07238580e-03\n",
            " 2.16027661e-04 1.98460843e-05 4.00494511e-06]\n",
            "Dimensions after fitting PCA are :\n",
            " 7\n"
          ],
          "name": "stdout"
        }
      ]
    },
    {
      "cell_type": "code",
      "metadata": {
        "colab": {
          "base_uri": "https://localhost:8080/",
          "height": 298
        },
        "id": "U8ct3IqHj2Xa",
        "outputId": "c165c776-2939-41b3-f4d1-2f613ca9749b"
      },
      "source": [
        "plt.plot(range(dimensions) , variance)\n",
        "plt.title(\"PCA : variance explained vs dimensions\",fontsize = 12)\n",
        "plt.xlabel(\"Dimensions\",fontsize = 12)\n",
        "plt.ylabel(\"variance explained\" , fontsize = 12)\n",
        "plt.show()"
      ],
      "execution_count": null,
      "outputs": [
        {
          "output_type": "display_data",
          "data": {
            "image/png": "[encoded data removed]",
            "text/plain": [
              "<Figure size 432x288 with 1 Axes>"
            ]
          },
          "metadata": {
            "tags": [],
            "needs_background": "light"
          }
        }
      ]
    },
    {
      "cell_type": "markdown",
      "metadata": {
        "id": "Tq_3LBnBmmWZ"
      },
      "source": [
        "$\\text{feature 1 and 2 has high variance and feature 4,5,6,7 have the least variance.}$"
      ]
    },
    {
      "cell_type": "markdown",
      "metadata": {
        "id": "jZ4OJOj7maXZ"
      },
      "source": [
        "#part d : Reconstructing data and calculating MSE"
      ]
    },
    {
      "cell_type": "markdown",
      "metadata": {
        "id": "Z6C3DPJOnF74"
      },
      "source": [
        "$\\text{MSE formula is}$ $ \\frac{1}{n} ((\\sum_{i = 1}^{n} ||x_i||^2 )\n",
        "- \\sum_{i=1}^{n} (w.x)^2)$ $\\text{but I will be using module mean_squared_error ,  from sklearn.metrics}$ "
      ]
    },
    {
      "cell_type": "code",
      "metadata": {
        "colab": {
          "base_uri": "https://localhost:8080/",
          "height": 298
        },
        "id": "yPJuXlpsl3eU",
        "outputId": "333da481-0e67-4342-f486-579d90f42ca8"
      },
      "source": [
        "from sklearn.metrics import mean_squared_error as MSE\n",
        "mean_sqrd_err = []\n",
        "for i in range(1,dimensions+1) : #atleast 1 feature space should be present\n",
        "  pca_new = PCA(n_components = i) #Reconstructing for 1,2,3,4,5,6,7 feature space\n",
        "  x_new = pca_new.fit_transform(train) #fitting new PCA to original data\n",
        "  x_pred = pca_new.inverse_transform(x_new) #predicting from new data which has i feature for original dimensions i.e. 7\n",
        "  mean_sqrd_err.append(MSE(train,x_pred)) #storing MSE\n",
        "\n",
        "#plot\n",
        "plt.plot(range(len(mean_sqrd_err)) , mean_sqrd_err)\n",
        "plt.title(\"PCA : MSE vs dimensions\",fontsize = 12)\n",
        "plt.xlabel(\"Dimensions\",fontsize = 12)\n",
        "plt.ylabel(\"MSE\" , fontsize = 12)\n",
        "plt.show()"
      ],
      "execution_count": null,
      "outputs": [
        {
          "output_type": "display_data",
          "data": {
            "image/png": "[encoded data removed]",
            "text/plain": [
              "<Figure size 432x288 with 1 Axes>"
            ]
          },
          "metadata": {
            "tags": [],
            "needs_background": "light"
          }
        }
      ]
    },
    {
      "cell_type": "markdown",
      "metadata": {
        "id": "RawHO014vX6s"
      },
      "source": [
        "$\\text{MSE is minimum when dimensions of PCA are more and we get minimum squared error when we predict using original dimensions available.}$"
      ]
    },
    {
      "cell_type": "markdown",
      "metadata": {
        "id": "diaxw7soxWlw"
      },
      "source": [
        "#$\\Large \\textbf{Solution to problem 3}$"
      ]
    },
    {
      "cell_type": "markdown",
      "metadata": {
        "id": "yFUq81RDynex"
      },
      "source": [
        "#part a : Visualize and pre-processing"
      ]
    },
    {
      "cell_type": "code",
      "metadata": {
        "colab": {
          "resources": {
            "http://localhost:8080/nbextensions/google.colab/files.js": {
              "data": "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",
              "ok": true,
              "headers": [
                [
                  "content-type",
                  "application/javascript"
                ]
              ],
              "status": 200,
              "status_text": ""
            }
          },
          "base_uri": "https://localhost:8080/",
          "height": 90
        },
        "id": "c0u4TQXLxU-Q",
        "outputId": "feb69086-d148-4d1f-f532-482bd687fa4d"
      },
      "source": [
        "file_uploaded = files.upload()\n",
        "for i in file_uploaded.keys() :\n",
        "  print(\"You have uploaded file {file} and file size is {len} bytes\".format(file = i , len = len(i)))\n",
        "train_df = pd.read_csv(\"/content/DataKPCA.csv\")"
      ],
      "execution_count": null,
      "outputs": [
        {
          "output_type": "display_data",
          "data": {
            "text/html": [
              "\n",
              "     <input type=\"file\" id=\"files-804599ea-791c-4753-baaa-087644d24fdf\" name=\"files[]\" multiple disabled\n",
              "        style=\"border:none\" />\n",
              "     <output id=\"result-804599ea-791c-4753-baaa-087644d24fdf\">\n",
              "      Upload widget is only available when the cell has been executed in the\n",
              "      current browser session. Please rerun this cell to enable.\n",
              "      </output>\n",
              "      <script src=\"/nbextensions/google.colab/files.js\"></script> "
            ],
            "text/plain": [
              "<IPython.core.display.HTML object>"
            ]
          },
          "metadata": {
            "tags": []
          }
        },
        {
          "output_type": "stream",
          "text": [
            "Saving DataKPCA.csv to DataKPCA.csv\n",
            "You have uploaded file DataKPCA.csv and file size is 12 bytes\n"
          ],
          "name": "stdout"
        }
      ]
    },
    {
      "cell_type": "code",
      "metadata": {
        "colab": {
          "base_uri": "https://localhost:8080/",
          "height": 402
        },
        "id": "r3fsekdUyzFo",
        "outputId": "3813aea7-217b-45c2-b808-43ae44e892f8"
      },
      "source": [
        "display(train_df)"
      ],
      "execution_count": null,
      "outputs": [
        {
          "output_type": "display_data",
          "data": {
            "text/html": [
              "<div>\n",
              "<style scoped>\n",
              "    .dataframe tbody tr th:only-of-type {\n",
              "        vertical-align: middle;\n",
              "    }\n",
              "\n",
              "    .dataframe tbody tr th {\n",
              "        vertical-align: top;\n",
              "    }\n",
              "\n",
              "    .dataframe thead th {\n",
              "        text-align: right;\n",
              "    }\n",
              "</style>\n",
              "<table border=\"1\" class=\"dataframe\">\n",
              "  <thead>\n",
              "    <tr style=\"text-align: right;\">\n",
              "      <th></th>\n",
              "      <th>x1</th>\n",
              "      <th>x2</th>\n",
              "      <th>x3</th>\n",
              "      <th>x4</th>\n",
              "      <th>x5</th>\n",
              "      <th>x6</th>\n",
              "      <th>x7</th>\n",
              "    </tr>\n",
              "  </thead>\n",
              "  <tbody>\n",
              "    <tr>\n",
              "      <th>0</th>\n",
              "      <td>2.596641</td>\n",
              "      <td>15.263178</td>\n",
              "      <td>-46.289607</td>\n",
              "      <td>-10.993265</td>\n",
              "      <td>-2.266729</td>\n",
              "      <td>1.935832</td>\n",
              "      <td>2.039688</td>\n",
              "    </tr>\n",
              "    <tr>\n",
              "      <th>1</th>\n",
              "      <td>3.096286</td>\n",
              "      <td>14.784802</td>\n",
              "      <td>-48.175614</td>\n",
              "      <td>-8.799362</td>\n",
              "      <td>-2.220871</td>\n",
              "      <td>1.851201</td>\n",
              "      <td>1.921974</td>\n",
              "    </tr>\n",
              "    <tr>\n",
              "      <th>2</th>\n",
              "      <td>3.360246</td>\n",
              "      <td>14.774917</td>\n",
              "      <td>-49.471841</td>\n",
              "      <td>-9.030501</td>\n",
              "      <td>-1.760447</td>\n",
              "      <td>1.753114</td>\n",
              "      <td>2.041933</td>\n",
              "    </tr>\n",
              "    <tr>\n",
              "      <th>3</th>\n",
              "      <td>2.214819</td>\n",
              "      <td>15.027394</td>\n",
              "      <td>-43.200400</td>\n",
              "      <td>-13.565001</td>\n",
              "      <td>-2.643018</td>\n",
              "      <td>2.200463</td>\n",
              "      <td>2.141847</td>\n",
              "    </tr>\n",
              "    <tr>\n",
              "      <th>4</th>\n",
              "      <td>3.398576</td>\n",
              "      <td>15.115756</td>\n",
              "      <td>-49.416644</td>\n",
              "      <td>-6.857672</td>\n",
              "      <td>-2.025936</td>\n",
              "      <td>1.788085</td>\n",
              "      <td>1.875540</td>\n",
              "    </tr>\n",
              "    <tr>\n",
              "      <th>...</th>\n",
              "      <td>...</td>\n",
              "      <td>...</td>\n",
              "      <td>...</td>\n",
              "      <td>...</td>\n",
              "      <td>...</td>\n",
              "      <td>...</td>\n",
              "      <td>...</td>\n",
              "    </tr>\n",
              "    <tr>\n",
              "      <th>185</th>\n",
              "      <td>2.647090</td>\n",
              "      <td>14.246231</td>\n",
              "      <td>-44.947807</td>\n",
              "      <td>-10.412540</td>\n",
              "      <td>-2.809695</td>\n",
              "      <td>2.084152</td>\n",
              "      <td>1.903990</td>\n",
              "    </tr>\n",
              "    <tr>\n",
              "      <th>186</th>\n",
              "      <td>2.677908</td>\n",
              "      <td>14.620351</td>\n",
              "      <td>-45.776334</td>\n",
              "      <td>-10.196029</td>\n",
              "      <td>-2.640178</td>\n",
              "      <td>2.038005</td>\n",
              "      <td>1.910832</td>\n",
              "    </tr>\n",
              "    <tr>\n",
              "      <th>187</th>\n",
              "      <td>3.543866</td>\n",
              "      <td>14.487241</td>\n",
              "      <td>-49.692284</td>\n",
              "      <td>-7.773038</td>\n",
              "      <td>-1.865513</td>\n",
              "      <td>1.752195</td>\n",
              "      <td>1.952922</td>\n",
              "    </tr>\n",
              "    <tr>\n",
              "      <th>188</th>\n",
              "      <td>3.563404</td>\n",
              "      <td>13.945495</td>\n",
              "      <td>-49.131439</td>\n",
              "      <td>-8.156546</td>\n",
              "      <td>-2.104684</td>\n",
              "      <td>1.773425</td>\n",
              "      <td>1.914397</td>\n",
              "    </tr>\n",
              "    <tr>\n",
              "      <th>189</th>\n",
              "      <td>3.718648</td>\n",
              "      <td>13.810806</td>\n",
              "      <td>-49.414929</td>\n",
              "      <td>-7.661211</td>\n",
              "      <td>-2.154060</td>\n",
              "      <td>1.773895</td>\n",
              "      <td>1.901090</td>\n",
              "    </tr>\n",
              "  </tbody>\n",
              "</table>\n",
              "<p>190 rows × 7 columns</p>\n",
              "</div>"
            ],
            "text/plain": [
              "           x1         x2         x3         x4        x5        x6        x7\n",
              "0    2.596641  15.263178 -46.289607 -10.993265 -2.266729  1.935832  2.039688\n",
              "1    3.096286  14.784802 -48.175614  -8.799362 -2.220871  1.851201  1.921974\n",
              "2    3.360246  14.774917 -49.471841  -9.030501 -1.760447  1.753114  2.041933\n",
              "3    2.214819  15.027394 -43.200400 -13.565001 -2.643018  2.200463  2.141847\n",
              "4    3.398576  15.115756 -49.416644  -6.857672 -2.025936  1.788085  1.875540\n",
              "..        ...        ...        ...        ...       ...       ...       ...\n",
              "185  2.647090  14.246231 -44.947807 -10.412540 -2.809695  2.084152  1.903990\n",
              "186  2.677908  14.620351 -45.776334 -10.196029 -2.640178  2.038005  1.910832\n",
              "187  3.543866  14.487241 -49.692284  -7.773038 -1.865513  1.752195  1.952922\n",
              "188  3.563404  13.945495 -49.131439  -8.156546 -2.104684  1.773425  1.914397\n",
              "189  3.718648  13.810806 -49.414929  -7.661211 -2.154060  1.773895  1.901090\n",
              "\n",
              "[190 rows x 7 columns]"
            ]
          },
          "metadata": {
            "tags": []
          }
        }
      ]
    },
    {
      "cell_type": "markdown",
      "metadata": {
        "id": "1izjGMn7zJsv"
      },
      "source": [
        "$\\text{Data file has 190 rows and 7 columns , hence we can say that originally there are 7 features present.}$"
      ]
    },
    {
      "cell_type": "code",
      "metadata": {
        "colab": {
          "base_uri": "https://localhost:8080/"
        },
        "id": "EInP4csyy-m_",
        "outputId": "f8ac49fd-a6c5-4ffd-d1a9-b1a882a1962d"
      },
      "source": [
        "train_df.info()"
      ],
      "execution_count": null,
      "outputs": [
        {
          "output_type": "stream",
          "text": [
            "<class 'pandas.core.frame.DataFrame'>\n",
            "RangeIndex: 190 entries, 0 to 189\n",
            "Data columns (total 7 columns):\n",
            " #   Column  Non-Null Count  Dtype  \n",
            "---  ------  --------------  -----  \n",
            " 0   x1      190 non-null    float64\n",
            " 1   x2      190 non-null    float64\n",
            " 2   x3      190 non-null    float64\n",
            " 3   x4      190 non-null    float64\n",
            " 4   x5      190 non-null    float64\n",
            " 5   x6      190 non-null    float64\n",
            " 6   x7      190 non-null    float64\n",
            "dtypes: float64(7)\n",
            "memory usage: 10.5 KB\n"
          ],
          "name": "stdout"
        }
      ]
    },
    {
      "cell_type": "markdown",
      "metadata": {
        "id": "U7OxPx-PzaZc"
      },
      "source": [
        "$\\text{All the columns contains continuous values i.e. dtype = float64 . There is no missing data or null values in any columns.}$"
      ]
    },
    {
      "cell_type": "code",
      "metadata": {
        "colab": {
          "base_uri": "https://localhost:8080/",
          "height": 284
        },
        "id": "q_mmZBipzXCf",
        "outputId": "fd009d7d-3063-40cd-bd1c-4c1403858825"
      },
      "source": [
        "train_df.describe()"
      ],
      "execution_count": null,
      "outputs": [
        {
          "output_type": "execute_result",
          "data": {
            "text/html": [
              "<div>\n",
              "<style scoped>\n",
              "    .dataframe tbody tr th:only-of-type {\n",
              "        vertical-align: middle;\n",
              "    }\n",
              "\n",
              "    .dataframe tbody tr th {\n",
              "        vertical-align: top;\n",
              "    }\n",
              "\n",
              "    .dataframe thead th {\n",
              "        text-align: right;\n",
              "    }\n",
              "</style>\n",
              "<table border=\"1\" class=\"dataframe\">\n",
              "  <thead>\n",
              "    <tr style=\"text-align: right;\">\n",
              "      <th></th>\n",
              "      <th>x1</th>\n",
              "      <th>x2</th>\n",
              "      <th>x3</th>\n",
              "      <th>x4</th>\n",
              "      <th>x5</th>\n",
              "      <th>x6</th>\n",
              "      <th>x7</th>\n",
              "    </tr>\n",
              "  </thead>\n",
              "  <tbody>\n",
              "    <tr>\n",
              "      <th>count</th>\n",
              "      <td>190.000000</td>\n",
              "      <td>190.000000</td>\n",
              "      <td>190.000000</td>\n",
              "      <td>190.000000</td>\n",
              "      <td>190.000000</td>\n",
              "      <td>190.000000</td>\n",
              "      <td>190.000000</td>\n",
              "    </tr>\n",
              "    <tr>\n",
              "      <th>mean</th>\n",
              "      <td>3.121555</td>\n",
              "      <td>14.985682</td>\n",
              "      <td>-47.909555</td>\n",
              "      <td>-8.811677</td>\n",
              "      <td>-2.175834</td>\n",
              "      <td>1.893953</td>\n",
              "      <td>1.958302</td>\n",
              "    </tr>\n",
              "    <tr>\n",
              "      <th>std</th>\n",
              "      <td>0.589013</td>\n",
              "      <td>1.298751</td>\n",
              "      <td>2.459375</td>\n",
              "      <td>2.337179</td>\n",
              "      <td>0.505819</td>\n",
              "      <td>0.159647</td>\n",
              "      <td>0.108756</td>\n",
              "    </tr>\n",
              "    <tr>\n",
              "      <th>min</th>\n",
              "      <td>1.964315</td>\n",
              "      <td>11.577329</td>\n",
              "      <td>-52.837231</td>\n",
              "      <td>-14.068488</td>\n",
              "      <td>-3.613443</td>\n",
              "      <td>1.750006</td>\n",
              "      <td>1.761394</td>\n",
              "    </tr>\n",
              "    <tr>\n",
              "      <th>25%</th>\n",
              "      <td>2.679532</td>\n",
              "      <td>14.087484</td>\n",
              "      <td>-49.736194</td>\n",
              "      <td>-10.392405</td>\n",
              "      <td>-2.512570</td>\n",
              "      <td>1.773690</td>\n",
              "      <td>1.880257</td>\n",
              "    </tr>\n",
              "    <tr>\n",
              "      <th>50%</th>\n",
              "      <td>3.039420</td>\n",
              "      <td>14.943396</td>\n",
              "      <td>-48.185549</td>\n",
              "      <td>-9.045948</td>\n",
              "      <td>-2.156469</td>\n",
              "      <td>1.852369</td>\n",
              "      <td>1.942348</td>\n",
              "    </tr>\n",
              "    <tr>\n",
              "      <th>75%</th>\n",
              "      <td>3.489341</td>\n",
              "      <td>15.764749</td>\n",
              "      <td>-46.405402</td>\n",
              "      <td>-7.235609</td>\n",
              "      <td>-1.828925</td>\n",
              "      <td>1.954614</td>\n",
              "      <td>2.018826</td>\n",
              "    </tr>\n",
              "    <tr>\n",
              "      <th>max</th>\n",
              "      <td>4.820967</td>\n",
              "      <td>18.747792</td>\n",
              "      <td>-40.772554</td>\n",
              "      <td>-1.907331</td>\n",
              "      <td>-0.972995</td>\n",
              "      <td>2.580983</td>\n",
              "      <td>2.332842</td>\n",
              "    </tr>\n",
              "  </tbody>\n",
              "</table>\n",
              "</div>"
            ],
            "text/plain": [
              "               x1          x2          x3  ...          x5          x6          x7\n",
              "count  190.000000  190.000000  190.000000  ...  190.000000  190.000000  190.000000\n",
              "mean     3.121555   14.985682  -47.909555  ...   -2.175834    1.893953    1.958302\n",
              "std      0.589013    1.298751    2.459375  ...    0.505819    0.159647    0.108756\n",
              "min      1.964315   11.577329  -52.837231  ...   -3.613443    1.750006    1.761394\n",
              "25%      2.679532   14.087484  -49.736194  ...   -2.512570    1.773690    1.880257\n",
              "50%      3.039420   14.943396  -48.185549  ...   -2.156469    1.852369    1.942348\n",
              "75%      3.489341   15.764749  -46.405402  ...   -1.828925    1.954614    2.018826\n",
              "max      4.820967   18.747792  -40.772554  ...   -0.972995    2.580983    2.332842\n",
              "\n",
              "[8 rows x 7 columns]"
            ]
          },
          "metadata": {
            "tags": []
          },
          "execution_count": 42
        }
      ]
    },
    {
      "cell_type": "markdown",
      "metadata": {
        "id": "qc0fLME1zwfY"
      },
      "source": [
        "$\\text{mean and standard deviation is very different for different features and depending upon the histogram , we may need to transform the data before fitting KPCA}$ $\\text{As KPCA depends on the distribution of data and may involve biased data due to outliers.}$"
      ]
    },
    {
      "cell_type": "code",
      "metadata": {
        "colab": {
          "base_uri": "https://localhost:8080/",
          "height": 1000
        },
        "id": "SoV20RBwztVu",
        "outputId": "058b7273-56a1-4657-f442-3782659346e2"
      },
      "source": [
        "column = []\n",
        "for col in train_df.columns.values :\n",
        "  plt.hist(train_df[col])\n",
        "  plt.xlabel(col)\n",
        "  column.append(col)\n",
        "  print(col)\n",
        "  plt.show()"
      ],
      "execution_count": null,
      "outputs": [
        {
          "output_type": "stream",
          "text": [
            "x1\n"
          ],
          "name": "stdout"
        },
        {
          "output_type": "display_data",
          "data": {
            "image/png": "[encoded data removed]",
            "text/plain": [
              "<Figure size 432x288 with 1 Axes>"
            ]
          },
          "metadata": {
            "tags": [],
            "needs_background": "light"
          }
        },
        {
          "output_type": "stream",
          "text": [
            "x2\n"
          ],
          "name": "stdout"
        },
        {
          "output_type": "display_data",
          "data": {
            "image/png": "[encoded data removed]",
            "text/plain": [
              "<Figure size 432x288 with 1 Axes>"
            ]
          },
          "metadata": {
            "tags": [],
            "needs_background": "light"
          }
        },
        {
          "output_type": "stream",
          "text": [
            "x3\n"
          ],
          "name": "stdout"
        },
        {
          "output_type": "display_data",
          "data": {
            "image/png": "[encoded data removed]",
            "text/plain": [
              "<Figure size 432x288 with 1 Axes>"
            ]
          },
          "metadata": {
            "tags": [],
            "needs_background": "light"
          }
        },
        {
          "output_type": "stream",
          "text": [
            "x4\n"
          ],
          "name": "stdout"
        },
        {
          "output_type": "display_data",
          "data": {
            "image/png": "[encoded data removed]",
            "text/plain": [
              "<Figure size 432x288 with 1 Axes>"
            ]
          },
          "metadata": {
            "tags": [],
            "needs_background": "light"
          }
        },
        {
          "output_type": "stream",
          "text": [
            "x5\n"
          ],
          "name": "stdout"
        },
        {
          "output_type": "display_data",
          "data": {
            "image/png": "[encoded data removed]",
            "text/plain": [
              "<Figure size 432x288 with 1 Axes>"
            ]
          },
          "metadata": {
            "tags": [],
            "needs_background": "light"
          }
        },
        {
          "output_type": "stream",
          "text": [
            "x6\n"
          ],
          "name": "stdout"
        },
        {
          "output_type": "display_data",
          "data": {
            "image/png": "[encoded data removed]",
            "text/plain": [
              "<Figure size 432x288 with 1 Axes>"
            ]
          },
          "metadata": {
            "tags": [],
            "needs_background": "light"
          }
        },
        {
          "output_type": "stream",
          "text": [
            "x7\n"
          ],
          "name": "stdout"
        },
        {
          "output_type": "display_data",
          "data": {
            "image/png": "[encoded data removed]",
            "text/plain": [
              "<Figure size 432x288 with 1 Axes>"
            ]
          },
          "metadata": {
            "tags": [],
            "needs_background": "light"
          }
        }
      ]
    },
    {
      "cell_type": "markdown",
      "metadata": {
        "id": "q98V_WdL1T2j"
      },
      "source": [
        "$\\text{sample points in feature $x_6$ are right skewed and rest all features are somewhat normally distributed.}$ \\\\\n",
        "$\\text{As most features are normally distributed we can just fit a standardscalar and use the data to fit KPCA.}$"
      ]
    },
    {
      "cell_type": "code",
      "metadata": {
        "colab": {
          "base_uri": "https://localhost:8080/",
          "height": 136
        },
        "id": "ZP2yNGQu0jVv",
        "outputId": "3296a7ad-e6b0-4e09-8f33-ee7018b00078"
      },
      "source": [
        "#preprocessing\n",
        "#fitting standard scalar\n",
        "scalar = StandardScaler()\n",
        "training = scalar.fit_transform(train_df)\n",
        "training = pd.DataFrame(training , columns = column)\n",
        "training.head(3)"
      ],
      "execution_count": null,
      "outputs": [
        {
          "output_type": "execute_result",
          "data": {
            "text/html": [
              "<div>\n",
              "<style scoped>\n",
              "    .dataframe tbody tr th:only-of-type {\n",
              "        vertical-align: middle;\n",
              "    }\n",
              "\n",
              "    .dataframe tbody tr th {\n",
              "        vertical-align: top;\n",
              "    }\n",
              "\n",
              "    .dataframe thead th {\n",
              "        text-align: right;\n",
              "    }\n",
              "</style>\n",
              "<table border=\"1\" class=\"dataframe\">\n",
              "  <thead>\n",
              "    <tr style=\"text-align: right;\">\n",
              "      <th></th>\n",
              "      <th>x1</th>\n",
              "      <th>x2</th>\n",
              "      <th>x3</th>\n",
              "      <th>x4</th>\n",
              "      <th>x5</th>\n",
              "      <th>x6</th>\n",
              "      <th>x7</th>\n",
              "    </tr>\n",
              "  </thead>\n",
              "  <tbody>\n",
              "    <tr>\n",
              "      <th>0</th>\n",
              "      <td>-0.893531</td>\n",
              "      <td>0.214228</td>\n",
              "      <td>0.660423</td>\n",
              "      <td>-0.935894</td>\n",
              "      <td>-0.180173</td>\n",
              "      <td>0.263020</td>\n",
              "      <td>0.750311</td>\n",
              "    </tr>\n",
              "    <tr>\n",
              "      <th>1</th>\n",
              "      <td>-0.043014</td>\n",
              "      <td>-0.155081</td>\n",
              "      <td>-0.108467</td>\n",
              "      <td>0.005283</td>\n",
              "      <td>-0.089272</td>\n",
              "      <td>-0.268499</td>\n",
              "      <td>-0.334918</td>\n",
              "    </tr>\n",
              "    <tr>\n",
              "      <th>2</th>\n",
              "      <td>0.406310</td>\n",
              "      <td>-0.162711</td>\n",
              "      <td>-0.636915</td>\n",
              "      <td>-0.093875</td>\n",
              "      <td>0.823388</td>\n",
              "      <td>-0.884520</td>\n",
              "      <td>0.771011</td>\n",
              "    </tr>\n",
              "  </tbody>\n",
              "</table>\n",
              "</div>"
            ],
            "text/plain": [
              "         x1        x2        x3        x4        x5        x6        x7\n",
              "0 -0.893531  0.214228  0.660423 -0.935894 -0.180173  0.263020  0.750311\n",
              "1 -0.043014 -0.155081 -0.108467  0.005283 -0.089272 -0.268499 -0.334918\n",
              "2  0.406310 -0.162711 -0.636915 -0.093875  0.823388 -0.884520  0.771011"
            ]
          },
          "metadata": {
            "tags": []
          },
          "execution_count": 44
        }
      ]
    },
    {
      "cell_type": "code",
      "metadata": {
        "colab": {
          "base_uri": "https://localhost:8080/",
          "height": 284
        },
        "id": "FRtoA_OO2Ggv",
        "outputId": "fa7c370c-076c-47a7-8bd3-c417620aa6e8"
      },
      "source": [
        "training.describe()"
      ],
      "execution_count": null,
      "outputs": [
        {
          "output_type": "execute_result",
          "data": {
            "text/html": [
              "<div>\n",
              "<style scoped>\n",
              "    .dataframe tbody tr th:only-of-type {\n",
              "        vertical-align: middle;\n",
              "    }\n",
              "\n",
              "    .dataframe tbody tr th {\n",
              "        vertical-align: top;\n",
              "    }\n",
              "\n",
              "    .dataframe thead th {\n",
              "        text-align: right;\n",
              "    }\n",
              "</style>\n",
              "<table border=\"1\" class=\"dataframe\">\n",
              "  <thead>\n",
              "    <tr style=\"text-align: right;\">\n",
              "      <th></th>\n",
              "      <th>x1</th>\n",
              "      <th>x2</th>\n",
              "      <th>x3</th>\n",
              "      <th>x4</th>\n",
              "      <th>x5</th>\n",
              "      <th>x6</th>\n",
              "      <th>x7</th>\n",
              "    </tr>\n",
              "  </thead>\n",
              "  <tbody>\n",
              "    <tr>\n",
              "      <th>count</th>\n",
              "      <td>1.900000e+02</td>\n",
              "      <td>1.900000e+02</td>\n",
              "      <td>1.900000e+02</td>\n",
              "      <td>1.900000e+02</td>\n",
              "      <td>1.900000e+02</td>\n",
              "      <td>1.900000e+02</td>\n",
              "      <td>1.900000e+02</td>\n",
              "    </tr>\n",
              "    <tr>\n",
              "      <th>mean</th>\n",
              "      <td>4.838235e-16</td>\n",
              "      <td>1.360315e-15</td>\n",
              "      <td>-4.283124e-16</td>\n",
              "      <td>2.982994e-16</td>\n",
              "      <td>5.105930e-16</td>\n",
              "      <td>-1.106133e-15</td>\n",
              "      <td>1.743050e-15</td>\n",
              "    </tr>\n",
              "    <tr>\n",
              "      <th>std</th>\n",
              "      <td>1.002642e+00</td>\n",
              "      <td>1.002642e+00</td>\n",
              "      <td>1.002642e+00</td>\n",
              "      <td>1.002642e+00</td>\n",
              "      <td>1.002642e+00</td>\n",
              "      <td>1.002642e+00</td>\n",
              "      <td>1.002642e+00</td>\n",
              "    </tr>\n",
              "    <tr>\n",
              "      <th>min</th>\n",
              "      <td>-1.969901e+00</td>\n",
              "      <td>-2.631265e+00</td>\n",
              "      <td>-2.008924e+00</td>\n",
              "      <td>-2.255154e+00</td>\n",
              "      <td>-2.849651e+00</td>\n",
              "      <td>-9.040358e-01</td>\n",
              "      <td>-1.815341e+00</td>\n",
              "    </tr>\n",
              "    <tr>\n",
              "      <th>25%</th>\n",
              "      <td>-7.524304e-01</td>\n",
              "      <td>-6.934135e-01</td>\n",
              "      <td>-7.446873e-01</td>\n",
              "      <td>-6.781271e-01</td>\n",
              "      <td>-6.674832e-01</td>\n",
              "      <td>-7.552913e-01</td>\n",
              "      <td>-7.195187e-01</td>\n",
              "    </tr>\n",
              "    <tr>\n",
              "      <th>50%</th>\n",
              "      <td>-1.398125e-01</td>\n",
              "      <td>-3.264538e-02</td>\n",
              "      <td>-1.125178e-01</td>\n",
              "      <td>-1.005014e-01</td>\n",
              "      <td>3.838619e-02</td>\n",
              "      <td>-2.611607e-01</td>\n",
              "      <td>-1.470836e-01</td>\n",
              "    </tr>\n",
              "    <tr>\n",
              "      <th>75%</th>\n",
              "      <td>6.260622e-01</td>\n",
              "      <td>6.014429e-01</td>\n",
              "      <td>6.132157e-01</td>\n",
              "      <td>6.761279e-01</td>\n",
              "      <td>6.876498e-01</td>\n",
              "      <td>3.809776e-01</td>\n",
              "      <td>5.579842e-01</td>\n",
              "    </tr>\n",
              "    <tr>\n",
              "      <th>max</th>\n",
              "      <td>2.892812e+00</td>\n",
              "      <td>2.904366e+00</td>\n",
              "      <td>2.909625e+00</td>\n",
              "      <td>2.961942e+00</td>\n",
              "      <td>2.384287e+00</td>\n",
              "      <td>4.314800e+00</td>\n",
              "      <td>3.452963e+00</td>\n",
              "    </tr>\n",
              "  </tbody>\n",
              "</table>\n",
              "</div>"
            ],
            "text/plain": [
              "                 x1            x2  ...            x6            x7\n",
              "count  1.900000e+02  1.900000e+02  ...  1.900000e+02  1.900000e+02\n",
              "mean   4.838235e-16  1.360315e-15  ... -1.106133e-15  1.743050e-15\n",
              "std    1.002642e+00  1.002642e+00  ...  1.002642e+00  1.002642e+00\n",
              "min   -1.969901e+00 -2.631265e+00  ... -9.040358e-01 -1.815341e+00\n",
              "25%   -7.524304e-01 -6.934135e-01  ... -7.552913e-01 -7.195187e-01\n",
              "50%   -1.398125e-01 -3.264538e-02  ... -2.611607e-01 -1.470836e-01\n",
              "75%    6.260622e-01  6.014429e-01  ...  3.809776e-01  5.579842e-01\n",
              "max    2.892812e+00  2.904366e+00  ...  4.314800e+00  3.452963e+00\n",
              "\n",
              "[8 rows x 7 columns]"
            ]
          },
          "metadata": {
            "tags": []
          },
          "execution_count": 45
        }
      ]
    },
    {
      "cell_type": "markdown",
      "metadata": {
        "id": "VBf-OQKk2PFE"
      },
      "source": [
        "$\\text{After preprocessing and fitting standard scalar the data is now ready to be trained.}$"
      ]
    },
    {
      "cell_type": "markdown",
      "metadata": {
        "id": "ZRwZrlvI2ath"
      },
      "source": [
        "#part b : Training KPCA"
      ]
    },
    {
      "cell_type": "markdown",
      "metadata": {
        "id": "cVV8ojDm2mHh"
      },
      "source": [
        "$\\text{Reference :}$ https://scikit-learn.org/stable/modules/generated/sklearn.decomposition.KernelPCA.html"
      ]
    },
    {
      "cell_type": "code",
      "metadata": {
        "id": "obtCs0w12Mj9"
      },
      "source": [
        "from sklearn.decomposition import KernelPCA\n",
        "kpca = KernelPCA(kernel = 'rbf' , n_components = len(training.columns.values))\n",
        "X_new = kpca.fit_transform(training)"
      ],
      "execution_count": null,
      "outputs": []
    },
    {
      "cell_type": "code",
      "metadata": {
        "colab": {
          "base_uri": "https://localhost:8080/",
          "height": 195
        },
        "id": "nUkl5ePa33j4",
        "outputId": "9aca2548-2d59-4d83-8176-a37528967c06"
      },
      "source": [
        "pd.DataFrame(X_new,columns =column).head()"
      ],
      "execution_count": null,
      "outputs": [
        {
          "output_type": "execute_result",
          "data": {
            "text/html": [
              "<div>\n",
              "<style scoped>\n",
              "    .dataframe tbody tr th:only-of-type {\n",
              "        vertical-align: middle;\n",
              "    }\n",
              "\n",
              "    .dataframe tbody tr th {\n",
              "        vertical-align: top;\n",
              "    }\n",
              "\n",
              "    .dataframe thead th {\n",
              "        text-align: right;\n",
              "    }\n",
              "</style>\n",
              "<table border=\"1\" class=\"dataframe\">\n",
              "  <thead>\n",
              "    <tr style=\"text-align: right;\">\n",
              "      <th></th>\n",
              "      <th>x1</th>\n",
              "      <th>x2</th>\n",
              "      <th>x3</th>\n",
              "      <th>x4</th>\n",
              "      <th>x5</th>\n",
              "      <th>x6</th>\n",
              "      <th>x7</th>\n",
              "    </tr>\n",
              "  </thead>\n",
              "  <tbody>\n",
              "    <tr>\n",
              "      <th>0</th>\n",
              "      <td>-0.511021</td>\n",
              "      <td>0.223518</td>\n",
              "      <td>-0.197079</td>\n",
              "      <td>-0.082155</td>\n",
              "      <td>0.336981</td>\n",
              "      <td>-0.083734</td>\n",
              "      <td>-0.105992</td>\n",
              "    </tr>\n",
              "    <tr>\n",
              "      <th>1</th>\n",
              "      <td>0.005381</td>\n",
              "      <td>-0.235126</td>\n",
              "      <td>-0.485855</td>\n",
              "      <td>-0.058948</td>\n",
              "      <td>0.022616</td>\n",
              "      <td>0.042628</td>\n",
              "      <td>0.030444</td>\n",
              "    </tr>\n",
              "    <tr>\n",
              "      <th>2</th>\n",
              "      <td>0.255310</td>\n",
              "      <td>0.197993</td>\n",
              "      <td>-0.338920</td>\n",
              "      <td>0.059996</td>\n",
              "      <td>-0.095980</td>\n",
              "      <td>-0.381453</td>\n",
              "      <td>0.210417</td>\n",
              "    </tr>\n",
              "    <tr>\n",
              "      <th>3</th>\n",
              "      <td>-0.349442</td>\n",
              "      <td>0.206954</td>\n",
              "      <td>0.488276</td>\n",
              "      <td>-0.004865</td>\n",
              "      <td>0.335636</td>\n",
              "      <td>-0.046984</td>\n",
              "      <td>0.335552</td>\n",
              "    </tr>\n",
              "    <tr>\n",
              "      <th>4</th>\n",
              "      <td>0.500814</td>\n",
              "      <td>-0.186746</td>\n",
              "      <td>-0.200689</td>\n",
              "      <td>-0.095078</td>\n",
              "      <td>0.068398</td>\n",
              "      <td>0.131177</td>\n",
              "      <td>0.125235</td>\n",
              "    </tr>\n",
              "  </tbody>\n",
              "</table>\n",
              "</div>"
            ],
            "text/plain": [
              "         x1        x2        x3        x4        x5        x6        x7\n",
              "0 -0.511021  0.223518 -0.197079 -0.082155  0.336981 -0.083734 -0.105992\n",
              "1  0.005381 -0.235126 -0.485855 -0.058948  0.022616  0.042628  0.030444\n",
              "2  0.255310  0.197993 -0.338920  0.059996 -0.095980 -0.381453  0.210417\n",
              "3 -0.349442  0.206954  0.488276 -0.004865  0.335636 -0.046984  0.335552\n",
              "4  0.500814 -0.186746 -0.200689 -0.095078  0.068398  0.131177  0.125235"
            ]
          },
          "metadata": {
            "tags": []
          },
          "execution_count": 47
        }
      ]
    },
    {
      "cell_type": "markdown",
      "metadata": {
        "id": "EHpkdqzE4J98"
      },
      "source": [
        "$\\text{training KPCA using  parameters with kernel 'rbf'  and feature space as original feature space yeild the above results.}$$\\text{ Here , as our data is gaussian like hence  I have used rbf kernel.}$"
      ]
    },
    {
      "cell_type": "markdown",
      "metadata": {
        "id": "8sJlrcG156VN"
      },
      "source": [
        "#part c : Variance explained vs dimensions"
      ]
    },
    {
      "cell_type": "markdown",
      "metadata": {
        "id": "rf53jDT26JE4"
      },
      "source": [
        "$\\text{variance explained is just the percentage of variance with respect to total variance and hence we can calculate it as below.}$ \\\\\n",
        "$\\text{idea and math behind this procedure is inspired from :}$ https://stackoverflow.com/questions/29611842/scikit-learn-kernel-pca-explained-variance/40687862"
      ]
    },
    {
      "cell_type": "code",
      "metadata": {
        "colab": {
          "base_uri": "https://localhost:8080/"
        },
        "id": "-41oQpC735TN",
        "outputId": "0004cee7-1b3a-4185-bc19-56dbfcb41df3"
      },
      "source": [
        "#fitting for 10 dimensions \n",
        "kpca = KernelPCA(kernel = 'rbf', n_components=10)\n",
        "x_pred = kpca.fit_transform(training)\n",
        "\n",
        "#calculating variance using numpy library\n",
        "variance = np.var(x_pred , axis = 0)\n",
        "print(\"Variance are :\\n\" , variance)\n",
        "explained_var_ratio = variance/np.sum(variance)\n",
        "print(\"Explained variance ratio are :\\n\",explained_var_ratio)"
      ],
      "execution_count": null,
      "outputs": [
        {
          "output_type": "stream",
          "text": [
            "Variance are :\n",
            " [0.14807904 0.10631211 0.09957545 0.04579814 0.04268317 0.03428645\n",
            " 0.02913138 0.02046354 0.01659669 0.01434459]\n",
            "Explained variance ratio are :\n",
            " [0.26572199 0.19077288 0.17868422 0.08218296 0.07659326 0.06152568\n",
            " 0.0522751  0.03672101 0.0297821  0.02574081]\n"
          ],
          "name": "stdout"
        }
      ]
    },
    {
      "cell_type": "code",
      "metadata": {
        "colab": {
          "base_uri": "https://localhost:8080/"
        },
        "id": "TC7Glv1_8Z43",
        "outputId": "3261835e-028d-485f-8fd9-b2d4c5fab25c"
      },
      "source": [
        "dimension = kpca.n_components\n",
        "print(dimension)"
      ],
      "execution_count": null,
      "outputs": [
        {
          "output_type": "stream",
          "text": [
            "10\n"
          ],
          "name": "stdout"
        }
      ]
    },
    {
      "cell_type": "code",
      "metadata": {
        "colab": {
          "base_uri": "https://localhost:8080/",
          "height": 299
        },
        "id": "8rseNNzQ7yvT",
        "outputId": "f4ff122a-adbd-418f-9179-f1c58c1d15b5"
      },
      "source": [
        "#plot\n",
        "plt.plot(range(dimension) , explained_var_ratio)\n",
        "plt.title(\"variance explained vs KPCA dimensions\" , fontsize = 14)\n",
        "plt.xlabel(\"Dimensions\" , fontsize = 12)\n",
        "plt.ylabel(\"explained variance\" , fontsize = 12)\n",
        "plt.show()"
      ],
      "execution_count": null,
      "outputs": [
        {
          "output_type": "display_data",
          "data": {
            "image/png": "[encoded data removed]",
            "text/plain": [
              "<Figure size 432x288 with 1 Axes>"
            ]
          },
          "metadata": {
            "tags": [],
            "needs_background": "light"
          }
        }
      ]
    },
    {
      "cell_type": "markdown",
      "metadata": {
        "id": "EbikuOo-9EMp"
      },
      "source": [
        "$\\text{From above plot we can say that feature $x_1 , x_2 , x_3$ have more variance than other features and variance reduces to 0 if we fit for more dimensions than original dimensions.}$"
      ]
    }
  ]
}
